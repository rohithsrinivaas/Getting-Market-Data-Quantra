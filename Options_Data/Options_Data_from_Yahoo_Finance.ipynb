{
 "cells": [
  {
   "cell_type": "markdown",
   "metadata": {},
   "source": [
    "# Notebook Instructions\n",
    "\n",
    "1. All the <u>code and data files</u> used in this course are available in the downloadable unit of the <u>last section of this course</u>.\n",
    "2. You can run the notebook document sequentially (one cell at a time) by pressing **shift + enter**. \n",
    "3. While a cell is running, a [*] is shown on the left. After the cell is run, the output will appear on the next line.\n",
    "\n",
    "This course is based on specific versions of python packages. You can find the details of the packages in <a href='https://quantra.quantinsti.com/quantra-notebook' target=\"_blank\" >this manual</a>."
   ]
  },
  {
   "cell_type": "markdown",
   "metadata": {},
   "source": [
    "# Options Chain Data from Yahoo! Finance\n",
    "\n",
    "In the previous sections, you have fetched a range of market data on stocks and currencies from Yahoo! Finance.  Additionally, it also offers options chain data for the US equities market. In this notebook, you will learn to get the call and puts options chain data from Yahoo! Finance. \n",
    "\n",
    "The notebook is divided into the following parts:\n",
    "1. [Get Available Expiration Dates](#expiration_dates) \n",
    "2. [Options Chain Data](#options_chain)<br>\n",
    "    2.1. [Get Calls Data](#calls_data)<br>\n",
    "    2.2. [Get Puts Data](#puts_data)\n",
    "\n",
    "## Import Libraries"
   ]
  },
  {
   "cell_type": "code",
   "execution_count": 1,
   "metadata": {},
   "outputs": [],
   "source": [
    "# Import yfinance package\n",
    "import yfinance as yf\n",
    "\n",
    "# For plotting\n",
    "import matplotlib.pyplot as plt\n",
    "%matplotlib inline\n",
    "plt.style.use('seaborn-darkgrid')"
   ]
  },
  {
   "cell_type": "markdown",
   "metadata": {},
   "source": [
    "<a id='expiration_dates'></a> \n",
    "## Get Available Expiration Dates\n",
    "\n",
    "First, create a ticker object for a particular ticker (stock) for which you want the options chain data. To do that, you need to call the `Ticker` method of `yfinance`.\n",
    "\n",
    "To get the expiration dates for options of a particular ticker, you need to call the `options` method. "
   ]
  },
  {
   "cell_type": "code",
   "execution_count": 2,
   "metadata": {
    "scrolled": true
   },
   "outputs": [
    {
     "data": {
      "text/plain": [
       "('2021-06-04',\n",
       " '2021-06-11',\n",
       " '2021-06-18',\n",
       " '2021-06-25',\n",
       " '2021-07-02',\n",
       " '2021-07-09',\n",
       " '2021-07-16',\n",
       " '2021-08-20',\n",
       " '2021-09-17',\n",
       " '2021-10-15',\n",
       " '2021-11-19',\n",
       " '2022-01-21',\n",
       " '2022-03-18',\n",
       " '2022-06-17',\n",
       " '2022-09-16',\n",
       " '2023-01-20',\n",
       " '2023-03-17',\n",
       " '2023-06-16')"
      ]
     },
     "execution_count": 2,
     "metadata": {},
     "output_type": "execute_result"
    }
   ],
   "source": [
    "# Create ticker object for Microsoft\n",
    "msft = yf.Ticker('MSFT')\n",
    "\n",
    "# Call the options on the ticker object to get the expiration dates\n",
    "msft.options"
   ]
  },
  {
   "cell_type": "markdown",
   "metadata": {},
   "source": [
    "The above data shows the list of all available expiration dates for Microsoft options chain data."
   ]
  },
  {
   "cell_type": "markdown",
   "metadata": {},
   "source": [
    "<a id='options_chain'></a> \n",
    "## Options Chain Data\n",
    "\n",
    "To download options data, you can use the `option_chain` method. \n",
    "\n",
    "Syntax: \n",
    "```python\n",
    "ticker_object.option_chain(expiration_date)\n",
    "```\n",
    "Parameters:\n",
    "\n",
    "* `expiration_date`: Expiry date in the YYYY-MM-DD format. If none, returns all options data.\n",
    "\n",
    "You can use `calls` and `puts` methods to get the calls and puts options chain data, respectively."
   ]
  },
  {
   "cell_type": "code",
   "execution_count": 3,
   "metadata": {
    "scrolled": true
   },
   "outputs": [],
   "source": [
    "# Get options chain for specific expiration date\n",
    "option_chain = msft.option_chain(date=msft.options[0])"
   ]
  },
  {
   "cell_type": "markdown",
   "metadata": {},
   "source": [
    "<a id='calls_data'></a>\n",
    "### Get Calls Data"
   ]
  },
  {
   "cell_type": "code",
   "execution_count": 4,
   "metadata": {},
   "outputs": [
    {
     "data": {
      "text/html": [
       "<div>\n",
       "<style scoped>\n",
       "    .dataframe tbody tr th:only-of-type {\n",
       "        vertical-align: middle;\n",
       "    }\n",
       "\n",
       "    .dataframe tbody tr th {\n",
       "        vertical-align: top;\n",
       "    }\n",
       "\n",
       "    .dataframe thead th {\n",
       "        text-align: right;\n",
       "    }\n",
       "</style>\n",
       "<table border=\"1\" class=\"dataframe\">\n",
       "  <thead>\n",
       "    <tr style=\"text-align: right;\">\n",
       "      <th></th>\n",
       "      <th>contractSymbol</th>\n",
       "      <th>lastTradeDate</th>\n",
       "      <th>strike</th>\n",
       "      <th>lastPrice</th>\n",
       "      <th>bid</th>\n",
       "      <th>ask</th>\n",
       "      <th>change</th>\n",
       "      <th>percentChange</th>\n",
       "      <th>volume</th>\n",
       "      <th>openInterest</th>\n",
       "      <th>impliedVolatility</th>\n",
       "      <th>inTheMoney</th>\n",
       "      <th>contractSize</th>\n",
       "      <th>currency</th>\n",
       "    </tr>\n",
       "  </thead>\n",
       "  <tbody>\n",
       "    <tr>\n",
       "      <th>0</th>\n",
       "      <td>MSFT210604C00135000</td>\n",
       "      <td>2021-05-19 13:47:31</td>\n",
       "      <td>135.0</td>\n",
       "      <td>105.35</td>\n",
       "      <td>113.65</td>\n",
       "      <td>116.90</td>\n",
       "      <td>0.0</td>\n",
       "      <td>0.0</td>\n",
       "      <td>NaN</td>\n",
       "      <td>21</td>\n",
       "      <td>3.045901</td>\n",
       "      <td>True</td>\n",
       "      <td>REGULAR</td>\n",
       "      <td>USD</td>\n",
       "    </tr>\n",
       "    <tr>\n",
       "      <th>1</th>\n",
       "      <td>MSFT210604C00140000</td>\n",
       "      <td>2021-05-21 15:04:18</td>\n",
       "      <td>140.0</td>\n",
       "      <td>106.28</td>\n",
       "      <td>108.55</td>\n",
       "      <td>111.95</td>\n",
       "      <td>0.0</td>\n",
       "      <td>0.0</td>\n",
       "      <td>30.0</td>\n",
       "      <td>33</td>\n",
       "      <td>2.865237</td>\n",
       "      <td>True</td>\n",
       "      <td>REGULAR</td>\n",
       "      <td>USD</td>\n",
       "    </tr>\n",
       "    <tr>\n",
       "      <th>2</th>\n",
       "      <td>MSFT210604C00150000</td>\n",
       "      <td>2021-05-21 16:28:04</td>\n",
       "      <td>150.0</td>\n",
       "      <td>95.30</td>\n",
       "      <td>98.60</td>\n",
       "      <td>101.90</td>\n",
       "      <td>0.0</td>\n",
       "      <td>0.0</td>\n",
       "      <td>3.0</td>\n",
       "      <td>7</td>\n",
       "      <td>2.562504</td>\n",
       "      <td>True</td>\n",
       "      <td>REGULAR</td>\n",
       "      <td>USD</td>\n",
       "    </tr>\n",
       "    <tr>\n",
       "      <th>3</th>\n",
       "      <td>MSFT210604C00155000</td>\n",
       "      <td>2021-05-21 16:08:35</td>\n",
       "      <td>155.0</td>\n",
       "      <td>90.40</td>\n",
       "      <td>93.60</td>\n",
       "      <td>96.90</td>\n",
       "      <td>0.0</td>\n",
       "      <td>0.0</td>\n",
       "      <td>7.0</td>\n",
       "      <td>7</td>\n",
       "      <td>2.416996</td>\n",
       "      <td>True</td>\n",
       "      <td>REGULAR</td>\n",
       "      <td>USD</td>\n",
       "    </tr>\n",
       "    <tr>\n",
       "      <th>4</th>\n",
       "      <td>MSFT210604C00160000</td>\n",
       "      <td>2021-05-03 17:24:47</td>\n",
       "      <td>160.0</td>\n",
       "      <td>91.78</td>\n",
       "      <td>88.50</td>\n",
       "      <td>92.00</td>\n",
       "      <td>0.0</td>\n",
       "      <td>0.0</td>\n",
       "      <td>NaN</td>\n",
       "      <td>7</td>\n",
       "      <td>2.276371</td>\n",
       "      <td>True</td>\n",
       "      <td>REGULAR</td>\n",
       "      <td>USD</td>\n",
       "    </tr>\n",
       "  </tbody>\n",
       "</table>\n",
       "</div>"
      ],
      "text/plain": [
       "        contractSymbol       lastTradeDate  strike  lastPrice     bid     ask  \\\n",
       "0  MSFT210604C00135000 2021-05-19 13:47:31   135.0     105.35  113.65  116.90   \n",
       "1  MSFT210604C00140000 2021-05-21 15:04:18   140.0     106.28  108.55  111.95   \n",
       "2  MSFT210604C00150000 2021-05-21 16:28:04   150.0      95.30   98.60  101.90   \n",
       "3  MSFT210604C00155000 2021-05-21 16:08:35   155.0      90.40   93.60   96.90   \n",
       "4  MSFT210604C00160000 2021-05-03 17:24:47   160.0      91.78   88.50   92.00   \n",
       "\n",
       "   change  percentChange  volume  openInterest  impliedVolatility  inTheMoney  \\\n",
       "0     0.0            0.0     NaN            21           3.045901        True   \n",
       "1     0.0            0.0    30.0            33           2.865237        True   \n",
       "2     0.0            0.0     3.0             7           2.562504        True   \n",
       "3     0.0            0.0     7.0             7           2.416996        True   \n",
       "4     0.0            0.0     NaN             7           2.276371        True   \n",
       "\n",
       "  contractSize currency  \n",
       "0      REGULAR      USD  \n",
       "1      REGULAR      USD  \n",
       "2      REGULAR      USD  \n",
       "3      REGULAR      USD  \n",
       "4      REGULAR      USD  "
      ]
     },
     "execution_count": 4,
     "metadata": {},
     "output_type": "execute_result"
    }
   ],
   "source": [
    "# Get Microsoft calls options chain data\n",
    "option_chain.calls.head()"
   ]
  },
  {
   "cell_type": "markdown",
   "metadata": {},
   "source": [
    "The above output shows the call options chain for stock Microsoft. The option chain shows the bid, ask, and last traded price for different strike prices with date and time. It also shows the volume and open interest data for all strike prices."
   ]
  },
  {
   "cell_type": "code",
   "execution_count": 5,
   "metadata": {},
   "outputs": [
    {
     "data": {
      "image/png": "[encoded data removed]",
      "text/plain": [
       "<Figure size 1080x504 with 1 Axes>"
      ]
     },
     "metadata": {
      "needs_background": "light"
     },
     "output_type": "display_data"
    }
   ],
   "source": [
    "# Plot call strike price vs call last traded price \n",
    "plt.figure(figsize=(15, 7))\n",
    "plt.plot(option_chain.calls.strike, option_chain.calls.lastPrice)\n",
    "plt.xlabel('Strike Price', fontsize =12)\n",
    "plt.ylabel('Last Price', fontsize=12)\n",
    "plt.title('Microsoft Call Options Last Price for Different Strike', fontsize=14)\n",
    "plt.show()"
   ]
  },
  {
   "cell_type": "markdown",
   "metadata": {},
   "source": [
    "The above chart shows the Microsoft call options last traded price for different strike prices. As you can see, the call options price gradually falls as the strike price increases. Or in other words, options call price is higher for in the money options than out of the money options."
   ]
  },
  {
   "cell_type": "markdown",
   "metadata": {},
   "source": [
    "<a id='puts_data'></a>\n",
    "### Get Puts Data"
   ]
  },
  {
   "cell_type": "code",
   "execution_count": 6,
   "metadata": {
    "scrolled": false
   },
   "outputs": [
    {
     "data": {
      "text/html": [
       "<div>\n",
       "<style scoped>\n",
       "    .dataframe tbody tr th:only-of-type {\n",
       "        vertical-align: middle;\n",
       "    }\n",
       "\n",
       "    .dataframe tbody tr th {\n",
       "        vertical-align: top;\n",
       "    }\n",
       "\n",
       "    .dataframe thead th {\n",
       "        text-align: right;\n",
       "    }\n",
       "</style>\n",
       "<table border=\"1\" class=\"dataframe\">\n",
       "  <thead>\n",
       "    <tr style=\"text-align: right;\">\n",
       "      <th></th>\n",
       "      <th>contractSymbol</th>\n",
       "      <th>lastTradeDate</th>\n",
       "      <th>strike</th>\n",
       "      <th>lastPrice</th>\n",
       "      <th>bid</th>\n",
       "      <th>ask</th>\n",
       "      <th>change</th>\n",
       "      <th>percentChange</th>\n",
       "      <th>volume</th>\n",
       "      <th>openInterest</th>\n",
       "      <th>impliedVolatility</th>\n",
       "      <th>inTheMoney</th>\n",
       "      <th>contractSize</th>\n",
       "      <th>currency</th>\n",
       "    </tr>\n",
       "  </thead>\n",
       "  <tbody>\n",
       "    <tr>\n",
       "      <th>0</th>\n",
       "      <td>MSFT210604P00135000</td>\n",
       "      <td>2021-05-17 04:01:02</td>\n",
       "      <td>135.0</td>\n",
       "      <td>0.06</td>\n",
       "      <td>0.0</td>\n",
       "      <td>0.05</td>\n",
       "      <td>0.00</td>\n",
       "      <td>0.00000</td>\n",
       "      <td>NaN</td>\n",
       "      <td>30</td>\n",
       "      <td>2.062505</td>\n",
       "      <td>False</td>\n",
       "      <td>REGULAR</td>\n",
       "      <td>USD</td>\n",
       "    </tr>\n",
       "    <tr>\n",
       "      <th>1</th>\n",
       "      <td>MSFT210604P00140000</td>\n",
       "      <td>2021-05-24 19:54:40</td>\n",
       "      <td>140.0</td>\n",
       "      <td>0.01</td>\n",
       "      <td>0.0</td>\n",
       "      <td>0.05</td>\n",
       "      <td>0.00</td>\n",
       "      <td>0.00000</td>\n",
       "      <td>10.0</td>\n",
       "      <td>45</td>\n",
       "      <td>1.937500</td>\n",
       "      <td>False</td>\n",
       "      <td>REGULAR</td>\n",
       "      <td>USD</td>\n",
       "    </tr>\n",
       "    <tr>\n",
       "      <th>2</th>\n",
       "      <td>MSFT210604P00145000</td>\n",
       "      <td>2021-05-19 15:40:54</td>\n",
       "      <td>145.0</td>\n",
       "      <td>0.03</td>\n",
       "      <td>0.0</td>\n",
       "      <td>0.14</td>\n",
       "      <td>0.00</td>\n",
       "      <td>0.00000</td>\n",
       "      <td>NaN</td>\n",
       "      <td>5</td>\n",
       "      <td>2.039067</td>\n",
       "      <td>False</td>\n",
       "      <td>REGULAR</td>\n",
       "      <td>USD</td>\n",
       "    </tr>\n",
       "    <tr>\n",
       "      <th>3</th>\n",
       "      <td>MSFT210604P00150000</td>\n",
       "      <td>2021-05-28 18:04:12</td>\n",
       "      <td>150.0</td>\n",
       "      <td>0.01</td>\n",
       "      <td>0.0</td>\n",
       "      <td>0.01</td>\n",
       "      <td>-0.02</td>\n",
       "      <td>-66.66667</td>\n",
       "      <td>1.0</td>\n",
       "      <td>7</td>\n",
       "      <td>1.500002</td>\n",
       "      <td>False</td>\n",
       "      <td>REGULAR</td>\n",
       "      <td>USD</td>\n",
       "    </tr>\n",
       "    <tr>\n",
       "      <th>4</th>\n",
       "      <td>MSFT210604P00155000</td>\n",
       "      <td>2021-05-20 17:01:53</td>\n",
       "      <td>155.0</td>\n",
       "      <td>0.02</td>\n",
       "      <td>0.0</td>\n",
       "      <td>0.02</td>\n",
       "      <td>0.00</td>\n",
       "      <td>0.00000</td>\n",
       "      <td>1.0</td>\n",
       "      <td>31</td>\n",
       "      <td>1.500002</td>\n",
       "      <td>False</td>\n",
       "      <td>REGULAR</td>\n",
       "      <td>USD</td>\n",
       "    </tr>\n",
       "  </tbody>\n",
       "</table>\n",
       "</div>"
      ],
      "text/plain": [
       "        contractSymbol       lastTradeDate  strike  lastPrice  bid   ask  \\\n",
       "0  MSFT210604P00135000 2021-05-17 04:01:02   135.0       0.06  0.0  0.05   \n",
       "1  MSFT210604P00140000 2021-05-24 19:54:40   140.0       0.01  0.0  0.05   \n",
       "2  MSFT210604P00145000 2021-05-19 15:40:54   145.0       0.03  0.0  0.14   \n",
       "3  MSFT210604P00150000 2021-05-28 18:04:12   150.0       0.01  0.0  0.01   \n",
       "4  MSFT210604P00155000 2021-05-20 17:01:53   155.0       0.02  0.0  0.02   \n",
       "\n",
       "   change  percentChange  volume  openInterest  impliedVolatility  inTheMoney  \\\n",
       "0    0.00        0.00000     NaN            30           2.062505       False   \n",
       "1    0.00        0.00000    10.0            45           1.937500       False   \n",
       "2    0.00        0.00000     NaN             5           2.039067       False   \n",
       "3   -0.02      -66.66667     1.0             7           1.500002       False   \n",
       "4    0.00        0.00000     1.0            31           1.500002       False   \n",
       "\n",
       "  contractSize currency  \n",
       "0      REGULAR      USD  \n",
       "1      REGULAR      USD  \n",
       "2      REGULAR      USD  \n",
       "3      REGULAR      USD  \n",
       "4      REGULAR      USD  "
      ]
     },
     "execution_count": 6,
     "metadata": {},
     "output_type": "execute_result"
    }
   ],
   "source": [
    "# Get Microsoft puts options chain data\n",
    "option_chain.puts.head()"
   ]
  },
  {
   "cell_type": "code",
   "execution_count": 7,
   "metadata": {
    "scrolled": false
   },
   "outputs": [
    {
     "data": {
      "image/png": "[encoded data removed]",
      "text/plain": [
       "<Figure size 1080x504 with 1 Axes>"
      ]
     },
     "metadata": {
      "needs_background": "light"
     },
     "output_type": "display_data"
    }
   ],
   "source": [
    "# Plot put strike price vs put last traded price\n",
    "plt.figure(figsize=(15, 7))\n",
    "plt.plot(option_chain.puts.strike, option_chain.puts.lastPrice, color='g')\n",
    "plt.xlabel('Strike Price', fontsize=12)\n",
    "plt.ylabel('Last Price', fontsize=12)\n",
    "plt.title('Microsoft Put Options Last Price for Different Strike', fontsize=14)\n",
    "plt.show()"
   ]
  },
  {
   "cell_type": "markdown",
   "metadata": {},
   "source": [
    "The above chart shows the Microsoft puts options last traded price for different strike prices. As you can see, the puts options price gradually rises as the strike price increases or the strike price goes from out of the money to in the money.\n",
    "\n",
    "In the next section, you will learn to fetch stock fundamental data. <br><br>"
   ]
  }
 ],
 "metadata": {
  "kernelspec": {
   "display_name": "Python 3",
   "language": "python",
   "name": "python3"
  },
  "language_info": {
   "codemirror_mode": {
    "name": "ipython",
    "version": 3
   },
   "file_extension": ".py",
   "mimetype": "text/x-python",
   "name": "python",
   "nbconvert_exporter": "python",
   "pygments_lexer": "ipython3",
   "version": "3.7.4"
  }
 },
 "nbformat": 4,
 "nbformat_minor": 2
}
