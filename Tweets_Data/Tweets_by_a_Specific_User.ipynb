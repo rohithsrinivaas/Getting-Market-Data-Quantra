{
 "cells": [
  {
   "cell_type": "markdown",
   "metadata": {
    "colab_type": "text",
    "id": "3_LZqoMnPkN0"
   },
   "source": [
    "# Notebook Instructions\n",
    "\n",
    "1. All the <u>code and data files</u> used in this course are available in the downloadable unit of the <u>last section of this course</u>.\n",
    "2. You can run the notebook document sequentially (one cell at a time) by pressing **Shift + Enter**. \n",
    "3. While a cell is running, a [*] is shown on the left. After the cell is run, the output will appear on the next line.\n",
    "\n",
    "This course is based on specific versions of Python packages. You can find the details of the packages in <a href='https://quantra.quantinsti.com/quantra-notebook' target=\"_blank\" >this manual</a>."
   ]
  },
  {
   "cell_type": "markdown",
   "metadata": {
    "colab_type": "text",
    "id": "x3ACQ4kPPkN1"
   },
   "source": [
    "# Fetching Tweets\n",
    "\n",
    "In this notebook, you will learn to get tweets \n",
    "1. By a specific user\n",
    "2. Between specific dates\n",
    "\n",
    "Note: The output for the code will change during runtime.\n",
    "\n",
    "## Authenticate and create an API object - you already know this!"
   ]
  },
  {
   "cell_type": "code",
   "execution_count": 1,
   "metadata": {
    "colab": {},
    "colab_type": "code",
    "id": "WXw9_hBpPkN4"
   },
   "outputs": [],
   "source": [
    "# Import libraries\n",
    "import os\n",
    "import sys\n",
    "sys.path.append(\"..\")\n",
    "\n",
    "# Import the get_tweepy_api from the FMDA_quantra module\n",
    "# The code of this module can be found in the downloads (last section) of this course\n",
    "# You need to edit FMDA_quantra.py file and add your Twitter tokens manually before you continue\n",
    "from data_modules.FMDA_quantra import get_tweepy_api\n",
    "api = get_tweepy_api()"
   ]
  },
  {
   "cell_type": "markdown",
   "metadata": {
    "colab_type": "text",
    "id": "Rby9Fmi4PkN8"
   },
   "source": [
    "## Print tweet information - you already know this!"
   ]
  },
  {
   "cell_type": "code",
   "execution_count": 2,
   "metadata": {
    "colab": {},
    "colab_type": "code",
    "id": "31viloFDPkN-"
   },
   "outputs": [],
   "source": [
    "# Tabulate helps to print the data in a tabular format\n",
    "from tabulate import tabulate\n",
    "\n",
    "# This function takes as input the tweet (tweepy.models.Status object) and prints information in that tweet.\n",
    "def print_tweet_info(tweet):      \n",
    "    tweet_info = [\n",
    "                    ['Tweet ID: ', tweet.id_str],\n",
    "                    ['Created At (UTC):', tweet.created_at],\n",
    "                    ['User Screen Name: ', tweet.user.screen_name],\n",
    "                    ['Tweet Text: ', tweet.full_text],\n",
    "                    ['Retweet Count:', tweet.retweet_count],\n",
    "                    ['Favourite Count:', tweet.favorite_count],\n",
    "                    ['Language:', tweet.lang],                                   \n",
    "                ]\n",
    "    print(tabulate(tweet_info))"
   ]
  },
  {
   "cell_type": "markdown",
   "metadata": {
    "colab_type": "text",
    "id": "M79drXRYPkOB"
   },
   "source": [
    "## Tweet by a specific user\n",
    "<p>\n",
    "If you want to see the tweets posted by a specific user then just change the method from `search` to `user_timeline` and parameter from `search` to `screen_name`. For example, to get the tweets by Elon Musk call the `user_timeline` method with the parameter `screen_name='@elonmusk'`. </p>\n",
    "\n",
    "\n"
   ]
  },
  {
   "cell_type": "code",
   "execution_count": 11,
   "metadata": {
    "colab": {},
    "colab_type": "code",
    "id": "18S4C4I_PkOC"
   },
   "outputs": [],
   "source": [
    "tweets_by_user = api.user_timeline(screen_name = '@elonmusk', tweet_mode = 'extended')"
   ]
  },
  {
   "cell_type": "markdown",
   "metadata": {
    "colab_type": "text",
    "id": "7JuYjH3LPkOF"
   },
   "source": [
    "Similar to the output of the search method, the output of the `user_timeline` method contains the information on the tweets posted by the screen name specified. To print the first tweet returned, call the `print_tweet_info` with the parameter as `tweets_by_user[0]` (first tweet)."
   ]
  },
  {
   "cell_type": "code",
   "execution_count": 12,
   "metadata": {
    "colab": {},
    "colab_type": "code",
    "id": "AM0NB5B0PkOG",
    "outputId": "2861ec91-743c-45fd-9cef-a417f7563a38"
   },
   "outputs": [
    {
     "name": "stdout",
     "output_type": "stream",
     "text": [
      "-----------------  -----------------------------------------------------\n",
      "Tweet ID:          1396698902842122244\n",
      "Created At (UTC):  2021-05-24 05:25:42\n",
      "User Screen Name:  elonmusk\n",
      "Tweet Text:        @Cointelegraph He fears the … https://t.co/78WzM5ICjA\n",
      "Retweet Count:     6689\n",
      "Favourite Count:   25169\n",
      "Language:          en\n",
      "-----------------  -----------------------------------------------------\n"
     ]
    }
   ],
   "source": [
    "print_tweet_info(tweets_by_user[0])"
   ]
  },
  {
   "cell_type": "markdown",
   "metadata": {
    "colab_type": "text",
    "id": "JdkXSdQMPkOM"
   },
   "source": [
    "## Tweets between specific dates\n",
    "\n",
    "To fetch the tweets between specific dates, you can use the `since` and `until` parameters of the `search` or `user_timeline method`.\n",
    "In the below code, all the tweets since Jan 1, 2020 00:00:00 and until May 5, 2021 00:00:00 which matches the search criteria are returned."
   ]
  },
  {
   "cell_type": "code",
   "execution_count": 8,
   "metadata": {
    "colab": {},
    "colab_type": "code",
    "id": "R97tzD2tPkOO",
    "outputId": "e091a0f5-0fa5-47c5-fd93-91b37eb1f585"
   },
   "outputs": [
    {
     "data": {
      "text/plain": [
       "0"
      ]
     },
     "execution_count": 8,
     "metadata": {},
     "output_type": "execute_result"
    }
   ],
   "source": [
    "tweets_search_results = api.search(q = '$AMZN', since='2020-1-1', until='2021-5-5')\n",
    "len(tweets_search_results)"
   ]
  },
  {
   "cell_type": "markdown",
   "metadata": {
    "colab_type": "text",
    "id": "T4W4efaCPkOT"
   },
   "source": [
    "If you are using the standard API then you can get tweets of only past 7 days. Therefore, if you specify the `until` date which is not within the past 7 days then 0 number of tweets would be returned."
   ]
  },
  {
   "cell_type": "markdown",
   "metadata": {
    "colab_type": "text",
    "id": "CwUXe_fsPkOU"
   },
   "source": [
    "To fetch the tweets in past 1 day, you just need to update the since and until in the above code. To get the dates, you can use the `datetime` package and `timedelta` method as shown below."
   ]
  },
  {
   "cell_type": "code",
   "execution_count": 9,
   "metadata": {
    "colab": {},
    "colab_type": "code",
    "id": "0N4-NeWlPkOV",
    "outputId": "70983e4d-6c88-4b5e-d2ed-e4ddecf4bb89"
   },
   "outputs": [
    {
     "name": "stdout",
     "output_type": "stream",
     "text": [
      "2021-05-24\n",
      "2021-05-23\n"
     ]
    }
   ],
   "source": [
    "# Import datetime and timedelta from datetime package\n",
    "from datetime import datetime, timedelta\n",
    "\n",
    "# Datetime Now\n",
    "today = datetime.now()\n",
    "\n",
    "# Convert the datetime to string format\n",
    "today_date = today.strftime(\"%Y-%m-%d\")\n",
    "\n",
    "# print today's datetime\n",
    "print(today_date)\n",
    "\n",
    "# Subtract 1 day from today's datetime\n",
    "yesterday = today-timedelta(1)\n",
    "\n",
    "# Convert the datetime to string format\n",
    "yesterday_date = yesterday.strftime(\"%Y-%m-%d\")\n",
    "\n",
    "# print the yesterday's datetime\n",
    "print(yesterday_date)"
   ]
  },
  {
   "cell_type": "code",
   "execution_count": 13,
   "metadata": {
    "colab": {},
    "colab_type": "code",
    "id": "rQoEGaGnPkOZ",
    "outputId": "170e51d4-baa7-46b8-bcbd-563a3eb606e9",
    "scrolled": false
   },
   "outputs": [
    {
     "name": "stdout",
     "output_type": "stream",
     "text": [
      "-----------------  -------------------------------------------------------------------------------------------------------------------------------------------------------------------------------------------------------------------------------\n",
      "Tweet ID:          1396616152470720518\n",
      "Created At (UTC):  2021-05-23 23:56:53\n",
      "User Screen Name:  firestone_brian\n",
      "Tweet Text:        Phil Mickelson Winning Today Means Everything!\n",
      "\n",
      "                   $ads $aapl $amzn $abbv $agn $bhc $brk $crm $cmg $prgo $iep $hlf $ibm $ko $pep $tst $ms $gs $jpm $bac $btc $c $cs $teva $gsk $lly $bmy $googl $nflx $fb $sq $mcd $tsla $twtr $pg $uber $btc $dal $ual $luv $cat $mrk $cpe $ryaay\n",
      "Retweet Count:     0\n",
      "Favourite Count:   0\n",
      "Language:          en\n",
      "-----------------  -------------------------------------------------------------------------------------------------------------------------------------------------------------------------------------------------------------------------------\n"
     ]
    }
   ],
   "source": [
    "# Call the search method with date filters\n",
    "tweets_search_results = api.search(q = '$AMZN', since = yesterday_date, until = today_date, tweet_mode = 'extended')\n",
    "\n",
    "# Print the first tweet info\n",
    "print_tweet_info(tweets_search_results[0])"
   ]
  },
  {
   "cell_type": "markdown",
   "metadata": {
    "colab_type": "text",
    "id": "7hv76KiaPkOd"
   },
   "source": [
    "In the next section, you will go through the summary of the course."
   ]
  }
 ],
 "metadata": {
  "colab": {
   "collapsed_sections": [],
   "name": "Section 4.2 by user and date.ipynb",
   "provenance": [],
   "version": "0.3.2"
  },
  "kernelspec": {
   "display_name": "Python 3",
   "language": "python",
   "name": "python3"
  },
  "language_info": {
   "codemirror_mode": {
    "name": "ipython",
    "version": 3
   },
   "file_extension": ".py",
   "mimetype": "text/x-python",
   "name": "python",
   "nbconvert_exporter": "python",
   "pygments_lexer": "ipython3",
   "version": "3.7.4"
  }
 },
 "nbformat": 4,
 "nbformat_minor": 1
}
