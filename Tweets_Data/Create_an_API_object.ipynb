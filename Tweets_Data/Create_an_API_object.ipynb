{
 "cells": [
  {
   "cell_type": "markdown",
   "metadata": {
    "colab_type": "text",
    "id": "Y5G9ql4yKaKT"
   },
   "source": [
    "# Notebook Instructions\n",
    "\n",
    "1. All the <u>code and data files</u> used in this course are available in the downloadable unit of the <u>last section of this course</u>.\n",
    "2. You can run the notebook document sequentially (one cell at a time) by pressing **Shift + Enter**. \n",
    "3. While a cell is running, a [*] is shown on the left. After the cell is run, the output will appear on the next line.\n",
    "\n",
    "This course is based on specific versions of Python packages. You can find the details of the packages in <a href='https://quantra.quantinsti.com/quantra-notebook' target=\"_blank\" >this manual</a>."
   ]
  },
  {
   "cell_type": "markdown",
   "metadata": {
    "colab_type": "text",
    "id": "kBrS2desKaKU"
   },
   "source": [
    "# Getting started with Tweepy\n",
    "\n",
    "In this notebook, you will learn to:\n",
    "1. Get the consumer key and consumer secret\n",
    "2. Authenticate the access to Twitter API using the keys\n",
    "3. Create the tweepy API object\n",
    "\n",
    "## Get the Twitter keys\n",
    "\n",
    "Before we start using the tweepy library to get the tweets information, you will need the consumer key and consumer secret. This is required to authenticate the requests you will make to the Twitter.\n",
    "\n",
    "These steps are outlined in a course document located in the previous unit.\n",
    "\n",
    "To recap, the steps to get the keys are:\n",
    "\n",
    "1. Login to <a href='https://twitter.com/' target=\"_blank\" >Twitter</a>.\n",
    "2. Open <a href='https://developer.twitter.com/en/apps/create' target=\"_blank\" >Twitter Developer</a>.\n",
    "3. Create an application by submitting all the details on the page.\n",
    "4. After creating the application, you can find your Keys and Tokens in the details section.\n",
    "\n",
    "The below code fetches the consumer_key and consumer secret of quantra using the get_twitter_tokens method of the `FMDA_quantra` module. However, while running the code on your local machine, you are requested to replace the API key placeholder texts with the actual keys in the file `FMDA_quantra.py`. This file needs to be in the same folder as the current working directory, which is usually the folder where your notebook is being run from.\n",
    "\n",
    "Note: The output for the code will change during runtime."
   ]
  },
  {
   "cell_type": "code",
   "execution_count": 1,
   "metadata": {
    "colab": {},
    "colab_type": "code",
    "id": "G-uFPtzFKaKX"
   },
   "outputs": [],
   "source": [
    "# Import libraries\n",
    "import os\n",
    "import sys\n",
    "sys.path.append(\"..\")\n",
    "\n",
    "# Import the get_twitter_tokens from the FMDA_quantra module\n",
    "# The code of this module can be found in the downloads (last section) of this course\n",
    "# You need to edit FMDA_quantra.py file and add your Twitter tokens manually before you continue\n",
    "from data_modules.FMDA_quantra import get_twitter_tokens\n",
    "\n",
    "# Method in module module to get the dictionary of consumer key and consumer secret\n",
    "twitter_tokens = get_twitter_tokens()\n",
    "\n",
    "# Alternatively, you can set the consumer key and secret from the twitter_tokens dictionary\n",
    "consumer_key = twitter_tokens['consumer_key']\n",
    "consumer_secret = twitter_tokens['consumer_secret']"
   ]
  },
  {
   "cell_type": "markdown",
   "metadata": {
    "colab_type": "text",
    "id": "rXw6Z3RdKaKc"
   },
   "source": [
    "## Authenticate using the keys\n",
    "\n",
    "We will import the tweepy library and do an application-level authentication using the AppAuthHandler method. This method requires the consumer key and consumer secret as parameters."
   ]
  },
  {
   "cell_type": "code",
   "execution_count": 2,
   "metadata": {
    "colab": {},
    "colab_type": "code",
    "id": "SWuSl-OZKaKf",
    "outputId": "f8cd8953-ce54-4295-f68c-000fd698aacc"
   },
   "outputs": [
    {
     "data": {
      "text/plain": [
       "<tweepy.auth.AppAuthHandler at 0x2064c6048c8>"
      ]
     },
     "execution_count": 2,
     "metadata": {},
     "output_type": "execute_result"
    }
   ],
   "source": [
    "# Import the tweepy library\n",
    "import tweepy\n",
    "\n",
    "# Authenticate the access using the consumer key and consumer secret\n",
    "auth = tweepy.AppAuthHandler(consumer_key, consumer_secret)\n",
    "auth"
   ]
  },
  {
   "cell_type": "markdown",
   "metadata": {
    "colab_type": "text",
    "id": "36k0xy7lKaKl"
   },
   "source": [
    "## Create Twitter API object"
   ]
  },
  {
   "cell_type": "markdown",
   "metadata": {
    "colab_type": "text",
    "id": "2Mo7i6S2KaKm"
   },
   "source": [
    "In the previous step, we authenticated ourself. We will use that object `auth` to create an API object. This API object will be used to retrieve the tweets from Twitter.\n",
    "\n",
    "To create API, you can use the `API` method of tweepy and pass `auth` as the parameter as shown below."
   ]
  },
  {
   "cell_type": "code",
   "execution_count": 3,
   "metadata": {
    "colab": {},
    "colab_type": "code",
    "id": "1AxRFJaZKaKn",
    "outputId": "390364fe-b731-4ab5-ad77-82ba3f159a0c"
   },
   "outputs": [
    {
     "data": {
      "text/plain": [
       "<tweepy.api.API at 0x20649d21648>"
      ]
     },
     "execution_count": 3,
     "metadata": {},
     "output_type": "execute_result"
    }
   ],
   "source": [
    "# Create an API object using the auth object\n",
    "api = tweepy.API(auth)\n",
    "api                 "
   ]
  },
  {
   "cell_type": "markdown",
   "metadata": {
    "colab_type": "text",
    "id": "zEqaMLCMKaKr"
   },
   "source": [
    "The number of calls or requests you can make to the Twitter API is limited. This count resets every 15 minutes. To avoid manually waiting for the count to reset and making new calls to the API, you can set the API method parameter `wait_on_rate_limit=True`. If you want to get notified when the API is waiting for the count to reset you can set the parameter `wait_on_rate_limit_notify=True`."
   ]
  },
  {
   "cell_type": "code",
   "execution_count": 4,
   "metadata": {
    "colab": {},
    "colab_type": "code",
    "id": "I_uf_k27KaKs",
    "outputId": "2adc13bd-a39b-4636-dde8-751196327573"
   },
   "outputs": [
    {
     "data": {
      "text/plain": [
       "<tweepy.api.API at 0x2064c6309c8>"
      ]
     },
     "execution_count": 4,
     "metadata": {},
     "output_type": "execute_result"
    }
   ],
   "source": [
    "# Create an API object using the auth object and set the parameters to wait and notify when the rate limit is reached\n",
    "api = tweepy.API(    auth, \n",
    "                     wait_on_rate_limit=True, \n",
    "                     wait_on_rate_limit_notify=True\n",
    "                )\n",
    "api"
   ]
  },
  {
   "cell_type": "markdown",
   "metadata": {
    "colab_type": "text",
    "id": "03rJxGL3KaKy"
   },
   "source": [
    "In the next unit, you will learn how to use this API object to fetch the tweets from Twitter."
   ]
  }
 ],
 "metadata": {
  "colab": {
   "collapsed_sections": [],
   "name": "Section 3 Authentication.ipynb",
   "provenance": [],
   "version": "0.3.2"
  },
  "kernelspec": {
   "display_name": "Python 3",
   "language": "python",
   "name": "python3"
  },
  "language_info": {
   "codemirror_mode": {
    "name": "ipython",
    "version": 3
   },
   "file_extension": ".py",
   "mimetype": "text/x-python",
   "name": "python",
   "nbconvert_exporter": "python",
   "pygments_lexer": "ipython3",
   "version": "3.7.4"
  }
 },
 "nbformat": 4,
 "nbformat_minor": 1
}
