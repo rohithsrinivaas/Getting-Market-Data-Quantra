{
 "cells": [
  {
   "cell_type": "markdown",
   "metadata": {
    "id": "CiBNjpqpE9_L"
   },
   "source": [
    "# Notebook Instructions\n",
    "\n",
    "1. All the <u>code and data files</u> used in this course are available in the downloadable unit of the <u>last section of this course</u>.\n",
    "2. You can run the notebook document sequentially (one cell at a time) by pressing **shift + enter**. \n",
    "3. While a cell is running, a [*] is shown on the left. After the cell is run, the output will appear on the next line.\n",
    "\n",
    "This course is based on specific versions of python packages. You can find the details of the packages in <a href='https://quantra.quantinsti.com/quantra-notebook' target=\"_blank\" >this manual</a>."
   ]
  },
  {
   "cell_type": "markdown",
   "metadata": {
    "id": "vF5P3t_onJ6s"
   },
   "source": [
    "## Forex Price Data\n",
    "\n",
    "In this notebook, you will learn how to download the Forex (or FX) price data. You will download the:\n",
    "1. [Daily FX Price Data](#daily-data)\n",
    "2. [Minute FX Price Data](#minute-data)\n",
    "\n",
    "## Import Libraries"
   ]
  },
  {
   "cell_type": "code",
   "execution_count": 1,
   "metadata": {},
   "outputs": [],
   "source": [
    "# For data manipulation\n",
    "import numpy as np\n",
    "import pandas as pd\n",
    "\n",
    "# To fetch financial data\n",
    "import yfinance as yf\n",
    "\n",
    "# For visualisation\n",
    "import matplotlib.pyplot as plt\n",
    "%matplotlib inline\n",
    "plt.style.use('seaborn-dark')"
   ]
  },
  {
   "cell_type": "markdown",
   "metadata": {},
   "source": [
    "<a id='daily-data'></a> \n",
    "## Daily FX Price Data\n",
    "\n",
    "The steps to download the FX data is same as that of downloading the stock price data. You can download the FX price data using the `download()` method of the `yfinance` package by passing the proper ticker. If you want to download the data for EUR/USD, you can pass the respective ticker, `EURUSD=X` as the ticker parameter in the `download` method. You can find the ticker information on [Yahoo! Finance](https://finance.yahoo.com/currencies/)."
   ]
  },
  {
   "cell_type": "code",
   "execution_count": 2,
   "metadata": {
    "colab": {
     "base_uri": "https://localhost:8080/",
     "height": 252
    },
    "executionInfo": {
     "elapsed": 1125,
     "status": "ok",
     "timestamp": 1621245063199,
     "user": {
      "displayName": "Satyapriya Chaudhari",
      "photoUrl": "https://lh3.googleusercontent.com/a-/AOh14GjQz6DVrrRmVg2uHHY4hcrgrL36TsLfvpvWmYer=s64",
      "userId": "12829952992438247302"
     },
     "user_tz": -330
    },
    "id": "l3wTbzpvnJ65",
    "outputId": "f4c19d1b-4804-4921-a2c9-544853e70cfb"
   },
   "outputs": [
    {
     "name": "stdout",
     "output_type": "stream",
     "text": [
      "[*********************100%***********************]  1 of 1 downloaded\n"
     ]
    },
    {
     "data": {
      "text/html": [
       "<div>\n",
       "<style scoped>\n",
       "    .dataframe tbody tr th:only-of-type {\n",
       "        vertical-align: middle;\n",
       "    }\n",
       "\n",
       "    .dataframe tbody tr th {\n",
       "        vertical-align: top;\n",
       "    }\n",
       "\n",
       "    .dataframe thead th {\n",
       "        text-align: right;\n",
       "    }\n",
       "</style>\n",
       "<table border=\"1\" class=\"dataframe\">\n",
       "  <thead>\n",
       "    <tr style=\"text-align: right;\">\n",
       "      <th></th>\n",
       "      <th>Open</th>\n",
       "      <th>High</th>\n",
       "      <th>Low</th>\n",
       "      <th>Close</th>\n",
       "      <th>Adj Close</th>\n",
       "      <th>Volume</th>\n",
       "    </tr>\n",
       "    <tr>\n",
       "      <th>Date</th>\n",
       "      <th></th>\n",
       "      <th></th>\n",
       "      <th></th>\n",
       "      <th></th>\n",
       "      <th></th>\n",
       "      <th></th>\n",
       "    </tr>\n",
       "  </thead>\n",
       "  <tbody>\n",
       "    <tr>\n",
       "      <th>2021-05-20</th>\n",
       "      <td>1.2173</td>\n",
       "      <td>1.2229</td>\n",
       "      <td>1.2171</td>\n",
       "      <td>1.2173</td>\n",
       "      <td>1.2173</td>\n",
       "      <td>0</td>\n",
       "    </tr>\n",
       "    <tr>\n",
       "      <th>2021-05-21</th>\n",
       "      <td>1.2228</td>\n",
       "      <td>1.2242</td>\n",
       "      <td>1.2174</td>\n",
       "      <td>1.2225</td>\n",
       "      <td>1.2225</td>\n",
       "      <td>0</td>\n",
       "    </tr>\n",
       "    <tr>\n",
       "      <th>2021-05-24</th>\n",
       "      <td>1.2181</td>\n",
       "      <td>1.2229</td>\n",
       "      <td>1.2176</td>\n",
       "      <td>1.2183</td>\n",
       "      <td>1.2183</td>\n",
       "      <td>0</td>\n",
       "    </tr>\n",
       "    <tr>\n",
       "      <th>2021-05-25</th>\n",
       "      <td>1.2214</td>\n",
       "      <td>1.2267</td>\n",
       "      <td>1.2212</td>\n",
       "      <td>1.2215</td>\n",
       "      <td>1.2215</td>\n",
       "      <td>0</td>\n",
       "    </tr>\n",
       "    <tr>\n",
       "      <th>2021-05-26</th>\n",
       "      <td>1.2253</td>\n",
       "      <td>1.2265</td>\n",
       "      <td>1.2246</td>\n",
       "      <td>1.2262</td>\n",
       "      <td>1.2262</td>\n",
       "      <td>0</td>\n",
       "    </tr>\n",
       "  </tbody>\n",
       "</table>\n",
       "</div>"
      ],
      "text/plain": [
       "              Open    High     Low   Close  Adj Close  Volume\n",
       "Date                                                         \n",
       "2021-05-20  1.2173  1.2229  1.2171  1.2173     1.2173       0\n",
       "2021-05-21  1.2228  1.2242  1.2174  1.2225     1.2225       0\n",
       "2021-05-24  1.2181  1.2229  1.2176  1.2183     1.2183       0\n",
       "2021-05-25  1.2214  1.2267  1.2212  1.2215     1.2215       0\n",
       "2021-05-26  1.2253  1.2265  1.2246  1.2262     1.2262       0"
      ]
     },
     "execution_count": 2,
     "metadata": {},
     "output_type": "execute_result"
    }
   ],
   "source": [
    "# Set the ticker as 'EURUSD=X'\n",
    "forex_data = yf.download('EURUSD=X', start='2019-01-02')\n",
    "\n",
    "# Set the index to a datetime object\n",
    "forex_data.index = pd.to_datetime(forex_data.index)\n",
    "\n",
    "# Display the last five rows\n",
    "forex_data.tail()"
   ]
  },
  {
   "cell_type": "markdown",
   "metadata": {},
   "source": [
    "## Plot the Close Price"
   ]
  },
  {
   "cell_type": "code",
   "execution_count": 3,
   "metadata": {
    "id": "WRi92Z55E9_X",
    "outputId": "6918cf27-0df1-4be2-e21e-01c084bae2f9"
   },
   "outputs": [
    {
     "data": {
      "image/png": "[encoded data removed]",
      "text/plain": [
       "<Figure size 720x504 with 1 Axes>"
      ]
     },
     "metadata": {
      "needs_background": "light"
     },
     "output_type": "display_data"
    }
   ],
   "source": [
    "# Plot the close price\n",
    "plt.figure(figsize=(10,7))\n",
    "forex_data['Adj Close'].plot()\n",
    "\n",
    "# Set the title and axis label\n",
    "plt.title('EUR/USD Data', fontsize=14)\n",
    "plt.xlabel('Year-Month', fontsize=12)\n",
    "plt.ylabel('Price', fontsize=12)\n",
    "\n",
    "# Show the plot\n",
    "plt.show()"
   ]
  },
  {
   "cell_type": "markdown",
   "metadata": {
    "id": "_L7e5K4UE9_Y"
   },
   "source": [
    "<a id='minute-data'></a> \n",
    "## Minute FX Price Data\n",
    "\n",
    "By now, you can guess how to download the FX price data of minute frequency. Pass the proper `ticker`, `period` and `interval` to the `download` method of `yfinance`."
   ]
  },
  {
   "cell_type": "code",
   "execution_count": 4,
   "metadata": {
    "colab": {
     "base_uri": "https://localhost:8080/",
     "height": 252
    },
    "executionInfo": {
     "elapsed": 1117,
     "status": "ok",
     "timestamp": 1621245073448,
     "user": {
      "displayName": "Satyapriya Chaudhari",
      "photoUrl": "https://lh3.googleusercontent.com/a-/AOh14GjQz6DVrrRmVg2uHHY4hcrgrL36TsLfvpvWmYer=s64",
      "userId": "12829952992438247302"
     },
     "user_tz": -330
    },
    "id": "VRpUQvsBvEbK",
    "outputId": "2a814abc-bcdc-4374-b4df-e91795b969e3"
   },
   "outputs": [
    {
     "name": "stdout",
     "output_type": "stream",
     "text": [
      "[*********************100%***********************]  1 of 1 downloaded\n"
     ]
    },
    {
     "data": {
      "text/html": [
       "<div>\n",
       "<style scoped>\n",
       "    .dataframe tbody tr th:only-of-type {\n",
       "        vertical-align: middle;\n",
       "    }\n",
       "\n",
       "    .dataframe tbody tr th {\n",
       "        vertical-align: top;\n",
       "    }\n",
       "\n",
       "    .dataframe thead th {\n",
       "        text-align: right;\n",
       "    }\n",
       "</style>\n",
       "<table border=\"1\" class=\"dataframe\">\n",
       "  <thead>\n",
       "    <tr style=\"text-align: right;\">\n",
       "      <th></th>\n",
       "      <th>Open</th>\n",
       "      <th>High</th>\n",
       "      <th>Low</th>\n",
       "      <th>Close</th>\n",
       "      <th>Adj Close</th>\n",
       "      <th>Volume</th>\n",
       "    </tr>\n",
       "    <tr>\n",
       "      <th>Datetime</th>\n",
       "      <th></th>\n",
       "      <th></th>\n",
       "      <th></th>\n",
       "      <th></th>\n",
       "      <th></th>\n",
       "      <th></th>\n",
       "    </tr>\n",
       "  </thead>\n",
       "  <tbody>\n",
       "    <tr>\n",
       "      <th>2021-05-26 04:38:00+01:00</th>\n",
       "      <td>1.2264</td>\n",
       "      <td>1.2264</td>\n",
       "      <td>1.2264</td>\n",
       "      <td>1.2264</td>\n",
       "      <td>1.2264</td>\n",
       "      <td>0</td>\n",
       "    </tr>\n",
       "    <tr>\n",
       "      <th>2021-05-26 04:39:00+01:00</th>\n",
       "      <td>1.2261</td>\n",
       "      <td>1.2261</td>\n",
       "      <td>1.2261</td>\n",
       "      <td>1.2261</td>\n",
       "      <td>1.2261</td>\n",
       "      <td>0</td>\n",
       "    </tr>\n",
       "    <tr>\n",
       "      <th>2021-05-26 04:40:00+01:00</th>\n",
       "      <td>1.2264</td>\n",
       "      <td>1.2264</td>\n",
       "      <td>1.2264</td>\n",
       "      <td>1.2264</td>\n",
       "      <td>1.2264</td>\n",
       "      <td>0</td>\n",
       "    </tr>\n",
       "    <tr>\n",
       "      <th>2021-05-26 04:41:00+01:00</th>\n",
       "      <td>1.2264</td>\n",
       "      <td>1.2264</td>\n",
       "      <td>1.2264</td>\n",
       "      <td>1.2264</td>\n",
       "      <td>1.2264</td>\n",
       "      <td>0</td>\n",
       "    </tr>\n",
       "    <tr>\n",
       "      <th>2021-05-26 04:42:39+01:00</th>\n",
       "      <td>1.2262</td>\n",
       "      <td>1.2262</td>\n",
       "      <td>1.2262</td>\n",
       "      <td>1.2262</td>\n",
       "      <td>1.2262</td>\n",
       "      <td>0</td>\n",
       "    </tr>\n",
       "  </tbody>\n",
       "</table>\n",
       "</div>"
      ],
      "text/plain": [
       "                             Open    High     Low   Close  Adj Close  Volume\n",
       "Datetime                                                                    \n",
       "2021-05-26 04:38:00+01:00  1.2264  1.2264  1.2264  1.2264     1.2264       0\n",
       "2021-05-26 04:39:00+01:00  1.2261  1.2261  1.2261  1.2261     1.2261       0\n",
       "2021-05-26 04:40:00+01:00  1.2264  1.2264  1.2264  1.2264     1.2264       0\n",
       "2021-05-26 04:41:00+01:00  1.2264  1.2264  1.2264  1.2264     1.2264       0\n",
       "2021-05-26 04:42:39+01:00  1.2262  1.2262  1.2262  1.2262     1.2262       0"
      ]
     },
     "execution_count": 4,
     "metadata": {},
     "output_type": "execute_result"
    }
   ],
   "source": [
    "# Set the ticker as 'EURUSD=X'\n",
    "forex_data_minute = yf.download('EURUSD=X', period='5d', interval='1m')\n",
    "\n",
    "# Set the index to a datetime object\n",
    "forex_data_minute.index = pd.to_datetime(forex_data_minute.index)\n",
    "\n",
    "# Display the last five rows\n",
    "forex_data_minute.tail()"
   ]
  },
  {
   "cell_type": "code",
   "execution_count": 5,
   "metadata": {
    "id": "RMrHQR2dE9_Z"
   },
   "outputs": [],
   "source": [
    "def format_xlabels(data, ax):\n",
    "    \"\"\"This function will format the x-labels of the graph\n",
    "    \"\"\"\n",
    "    num_x_values = data.shape[0]\n",
    "    step_size = num_x_values // 4    \n",
    "\n",
    "    ax.set_xticks(np.arange(num_x_values))\n",
    "    ax.set_xticklabels(data.index.values, rotation=45)\n",
    "   \n",
    "    for i, label in enumerate(ax.get_xticklabels()):\n",
    "        if not i%step_size==0:\n",
    "            label.set_visible(False)  \n",
    "    label.set_visible(True)"
   ]
  },
  {
   "cell_type": "code",
   "execution_count": 6,
   "metadata": {
    "id": "L2Yh0R2uE9_Z",
    "outputId": "f193263c-5977-4f4c-fa66-fae217d4abb8"
   },
   "outputs": [
    {
     "data": {
      "image/png": "[encoded data removed]",
      "text/plain": [
       "<Figure size 720x504 with 1 Axes>"
      ]
     },
     "metadata": {
      "needs_background": "light"
     },
     "output_type": "display_data"
    }
   ],
   "source": [
    "# Number of points to plot\n",
    "x_values = forex_data_minute['Adj Close'].shape[0]\n",
    "\n",
    "# Plot the series\n",
    "fig, ax = plt.subplots(figsize=(10,7))\n",
    "ax.plot(range(x_values), forex_data_minute['Adj Close'])\n",
    "\n",
    "# Set title and axis label\n",
    "plt.title('EUR/USD Data', fontsize=14)\n",
    "plt.xlabel('Time', fontsize=12)\n",
    "plt.ylabel('Price', fontsize=12)\n",
    "\n",
    "# Format the xlabel\n",
    "format_xlabels(forex_data_minute['Adj Close'], ax)\n",
    "\n",
    "# Show the plot\n",
    "plt.show()"
   ]
  },
  {
   "cell_type": "markdown",
   "metadata": {
    "id": "1LdH6FfDE9_a"
   },
   "source": [
    "## Your Turn to Practice\n",
    "\n",
    "Now it's your turn. Apply what you have learnt and get the data for EUR/CHF (ticker: \"EURCHF=X\"). \n",
    "\n",
    "You can also try any other currency pair as per your choice."
   ]
  },
  {
   "cell_type": "code",
   "execution_count": null,
   "metadata": {
    "id": "q1hVNWu1E9_a"
   },
   "outputs": [],
   "source": [
    "\"\"\"Fetch the data for EUR/CHF\n",
    "\"\"\"\n",
    "# Type your code below\n",
    "# Fetch the data using 'yf.download'\n",
    "\n",
    "\n",
    "# Set the index to a datetime object\n",
    "\n",
    "\n",
    "# Display the last five rows\n"
   ]
  },
  {
   "cell_type": "markdown",
   "metadata": {
    "id": "ViRcawt7E9_a"
   },
   "source": [
    "Once you get the data you can also visualise it."
   ]
  },
  {
   "cell_type": "code",
   "execution_count": null,
   "metadata": {
    "id": "rmKSg0owE9_b"
   },
   "outputs": [],
   "source": [
    "\"\"\"Plot the series\n",
    "\"\"\"\n",
    "# Type your code below\n",
    "# Plot the series\n",
    "\n",
    "\n",
    "# Set title and axis label\n",
    "\n",
    "\n",
    "\n",
    "# Show the plot\n"
   ]
  }
 ],
 "metadata": {
  "colab": {
   "name": "FX Price Data.ipynb",
   "provenance": []
  },
  "kernelspec": {
   "display_name": "Python 3",
   "language": "python",
   "name": "python3"
  },
  "language_info": {
   "codemirror_mode": {
    "name": "ipython",
    "version": 3
   },
   "file_extension": ".py",
   "mimetype": "text/x-python",
   "name": "python",
   "nbconvert_exporter": "python",
   "pygments_lexer": "ipython3",
   "version": "3.6.8"
  }
 },
 "nbformat": 4,
 "nbformat_minor": 1
}
