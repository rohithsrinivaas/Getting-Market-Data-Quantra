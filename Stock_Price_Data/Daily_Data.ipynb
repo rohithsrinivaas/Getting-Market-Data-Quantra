{
 "cells": [
  {
   "cell_type": "markdown",
   "metadata": {
    "id": "uCGIiM5QDkoc"
   },
   "source": [
    "# Notebook Instructions\n",
    "\n",
    "1. All the <u>code and data files</u> used in this course are available in the downloadable unit of the <u>last section of this course</u>.\n",
    "2. You can run the notebook document sequentially (one cell at a time) by pressing **shift + enter**. \n",
    "3. While a cell is running, a [*] is shown on the left. After the cell is run, the output will appear on the next line.\n",
    "\n",
    "This course is based on specific versions of python packages. You can find the details of the packages in <a href='https://quantra.quantinsti.com/quantra-notebook' target=\"_blank\" >this manual</a>."
   ]
  },
  {
   "cell_type": "markdown",
   "metadata": {
    "id": "SjgrtZTZnnyW"
   },
   "source": [
    "## Daily Stock Price Data\n",
    "\n",
    "Access to historical price data is a necessity when you plan to create and backtest your strategy. There are several web sources and Python packages available to download the data. In this notebook, you will learn how to download the daily stock price data by running a few lines of Python code. \n",
    "\n",
    "In this notebook, you will download the:\n",
    "1. [Daily Price Data](#daily-data)\n",
    "2. [Adjusted Daily Price Data](#adjusted-daily-data)\n",
    "\n",
    "## Import Libraries"
   ]
  },
  {
   "cell_type": "code",
   "execution_count": 1,
   "metadata": {},
   "outputs": [],
   "source": [
    "# For data manipulation\n",
    "import pandas as pd\n",
    "\n",
    "# To fetch financial data\n",
    "import yfinance as yf\n",
    "\n",
    "# For visualisation\n",
    "import matplotlib.pyplot as plt\n",
    "%matplotlib inline\n",
    "plt.style.use('seaborn-darkgrid')"
   ]
  },
  {
   "cell_type": "markdown",
   "metadata": {},
   "source": [
    "<a id='daily-data'></a> \n",
    "## Daily Price Data\n",
    "\n",
    "To download the daily price data, you will use the `yfinance` module to download the data from Yahoo! Finance.\n",
    "\n",
    "Yahoo! Finance is part of Yahoo’s network and was sold in 2017 to Verizon Media. It is the largest business news website in the United States by monthly traffic and provides financial news, data and commentary including stock quotes, press releases, financial reports, and original content.\n",
    "\n",
    "They provide market data on cryptocurrencies, regular currencies, commodity futures, stocks and bonds, fundamental and options data, and market analysis and news.\n",
    "\n",
    "You can then use the `download()` method of the `yfinance` package to download the dataset.\n",
    "\n",
    "Syntax:\n",
    "```python\n",
    "import yfinance as yf\n",
    "yf.download(ticker, start, end)\n",
    "```\n",
    "\n",
    "Parameters:\n",
    "1. **ticker:** Ticker of the asset\n",
    "2. **start:** Start date\n",
    "3. **end:** End date, if not specified, data is downloaded till current data\n",
    "\n",
    "Returns:<br>\n",
    "A `pandas` dataframe containing the open, high, low, close and adjusted close price along with the volume for all the trading days between the start and the end date.\n",
    "\n",
    "After downloading the data, you can use `matplotlib` to visualise the data."
   ]
  },
  {
   "cell_type": "code",
   "execution_count": 2,
   "metadata": {
    "id": "HNeTGuhZnnye",
    "outputId": "44fca6ff-c53f-4e96-d0eb-52077654c51a"
   },
   "outputs": [
    {
     "name": "stdout",
     "output_type": "stream",
     "text": [
      "[*********************100%***********************]  1 of 1 downloaded\n"
     ]
    },
    {
     "data": {
      "text/html": [
       "<div>\n",
       "<style scoped>\n",
       "    .dataframe tbody tr th:only-of-type {\n",
       "        vertical-align: middle;\n",
       "    }\n",
       "\n",
       "    .dataframe tbody tr th {\n",
       "        vertical-align: top;\n",
       "    }\n",
       "\n",
       "    .dataframe thead th {\n",
       "        text-align: right;\n",
       "    }\n",
       "</style>\n",
       "<table border=\"1\" class=\"dataframe\">\n",
       "  <thead>\n",
       "    <tr style=\"text-align: right;\">\n",
       "      <th></th>\n",
       "      <th>Open</th>\n",
       "      <th>High</th>\n",
       "      <th>Low</th>\n",
       "      <th>Close</th>\n",
       "      <th>Adj Close</th>\n",
       "      <th>Volume</th>\n",
       "    </tr>\n",
       "    <tr>\n",
       "      <th>Date</th>\n",
       "      <th></th>\n",
       "      <th></th>\n",
       "      <th></th>\n",
       "      <th></th>\n",
       "      <th></th>\n",
       "      <th></th>\n",
       "    </tr>\n",
       "  </thead>\n",
       "  <tbody>\n",
       "    <tr>\n",
       "      <th>2021-05-19</th>\n",
       "      <td>123.16</td>\n",
       "      <td>124.92</td>\n",
       "      <td>122.86</td>\n",
       "      <td>124.69</td>\n",
       "      <td>124.69</td>\n",
       "      <td>92612000</td>\n",
       "    </tr>\n",
       "    <tr>\n",
       "      <th>2021-05-20</th>\n",
       "      <td>125.23</td>\n",
       "      <td>127.72</td>\n",
       "      <td>125.10</td>\n",
       "      <td>127.31</td>\n",
       "      <td>127.31</td>\n",
       "      <td>76857100</td>\n",
       "    </tr>\n",
       "    <tr>\n",
       "      <th>2021-05-21</th>\n",
       "      <td>127.82</td>\n",
       "      <td>128.00</td>\n",
       "      <td>125.21</td>\n",
       "      <td>125.43</td>\n",
       "      <td>125.43</td>\n",
       "      <td>79209300</td>\n",
       "    </tr>\n",
       "    <tr>\n",
       "      <th>2021-05-24</th>\n",
       "      <td>126.01</td>\n",
       "      <td>127.94</td>\n",
       "      <td>125.94</td>\n",
       "      <td>127.10</td>\n",
       "      <td>127.10</td>\n",
       "      <td>62986100</td>\n",
       "    </tr>\n",
       "    <tr>\n",
       "      <th>2021-05-25</th>\n",
       "      <td>127.82</td>\n",
       "      <td>128.32</td>\n",
       "      <td>126.32</td>\n",
       "      <td>126.90</td>\n",
       "      <td>126.90</td>\n",
       "      <td>72009482</td>\n",
       "    </tr>\n",
       "  </tbody>\n",
       "</table>\n",
       "</div>"
      ],
      "text/plain": [
       "              Open    High     Low   Close  Adj Close    Volume\n",
       "Date                                                           \n",
       "2021-05-19  123.16  124.92  122.86  124.69     124.69  92612000\n",
       "2021-05-20  125.23  127.72  125.10  127.31     127.31  76857100\n",
       "2021-05-21  127.82  128.00  125.21  125.43     125.43  79209300\n",
       "2021-05-24  126.01  127.94  125.94  127.10     127.10  62986100\n",
       "2021-05-25  127.82  128.32  126.32  126.90     126.90  72009482"
      ]
     },
     "execution_count": 2,
     "metadata": {},
     "output_type": "execute_result"
    }
   ],
   "source": [
    "# Download the Apple price data till the current date\n",
    "# Set the ticker as 'AAPL'\n",
    "price_data_apple = yf.download(\"AAPL\", start=\"2019-01-02\")\n",
    "\n",
    "# Set the index to a datetime object\n",
    "price_data_apple.index = pd.to_datetime(price_data_apple.index)\n",
    "\n",
    "# Display the first 5 rows\n",
    "price_data_apple.tail()"
   ]
  },
  {
   "cell_type": "markdown",
   "metadata": {},
   "source": [
    "In the above data, you can see both the close and adjusted close price. You can also download the adjusted dataset. Let's see how."
   ]
  },
  {
   "cell_type": "markdown",
   "metadata": {
    "id": "807qkwnUDkok"
   },
   "source": [
    "<a id='adjusted-daily-data'></a> \n",
    "## Adjusted Daily Price Data\n",
    "\n",
    "To download the adjusted dataset, you simply need to define the `auto_adjust` parameter to be `True` in the `download()` method.\n",
    "\n",
    "Syntax:\n",
    "\n",
    "```python\n",
    "import yfinance as yf\n",
    "yf.download(ticker, start, end, auto_adjust=True)\n",
    "```\n",
    "\n",
    "Parameters:\n",
    "1. **ticker:** Ticker of the asset\n",
    "2. **start:** Start date\n",
    "3. **end:** End date, if not specified, data is downloaded till current data\n",
    "4. **auto_adjust:** Either `True` or `False` (The default value is `False`)\n",
    "\n",
    "Returns:\n",
    "A `pandas` dataframe containing the adjusted open, high, low and close price along with the volume for all trading days between the start and the end date."
   ]
  },
  {
   "cell_type": "code",
   "execution_count": 3,
   "metadata": {
    "id": "aAleOkDAnnyg",
    "outputId": "ab0337dc-dfcb-4219-b7c6-fb298f470413"
   },
   "outputs": [
    {
     "name": "stdout",
     "output_type": "stream",
     "text": [
      "[*********************100%***********************]  1 of 1 downloaded\n"
     ]
    },
    {
     "data": {
      "text/html": [
       "<div>\n",
       "<style scoped>\n",
       "    .dataframe tbody tr th:only-of-type {\n",
       "        vertical-align: middle;\n",
       "    }\n",
       "\n",
       "    .dataframe tbody tr th {\n",
       "        vertical-align: top;\n",
       "    }\n",
       "\n",
       "    .dataframe thead th {\n",
       "        text-align: right;\n",
       "    }\n",
       "</style>\n",
       "<table border=\"1\" class=\"dataframe\">\n",
       "  <thead>\n",
       "    <tr style=\"text-align: right;\">\n",
       "      <th></th>\n",
       "      <th>Open</th>\n",
       "      <th>High</th>\n",
       "      <th>Low</th>\n",
       "      <th>Close</th>\n",
       "      <th>Volume</th>\n",
       "    </tr>\n",
       "    <tr>\n",
       "      <th>Date</th>\n",
       "      <th></th>\n",
       "      <th></th>\n",
       "      <th></th>\n",
       "      <th></th>\n",
       "      <th></th>\n",
       "    </tr>\n",
       "  </thead>\n",
       "  <tbody>\n",
       "    <tr>\n",
       "      <th>2021-05-19</th>\n",
       "      <td>123.16</td>\n",
       "      <td>124.92</td>\n",
       "      <td>122.86</td>\n",
       "      <td>124.69</td>\n",
       "      <td>92612000</td>\n",
       "    </tr>\n",
       "    <tr>\n",
       "      <th>2021-05-20</th>\n",
       "      <td>125.23</td>\n",
       "      <td>127.72</td>\n",
       "      <td>125.10</td>\n",
       "      <td>127.31</td>\n",
       "      <td>76857100</td>\n",
       "    </tr>\n",
       "    <tr>\n",
       "      <th>2021-05-21</th>\n",
       "      <td>127.82</td>\n",
       "      <td>128.00</td>\n",
       "      <td>125.21</td>\n",
       "      <td>125.43</td>\n",
       "      <td>79209300</td>\n",
       "    </tr>\n",
       "    <tr>\n",
       "      <th>2021-05-24</th>\n",
       "      <td>126.01</td>\n",
       "      <td>127.94</td>\n",
       "      <td>125.94</td>\n",
       "      <td>127.10</td>\n",
       "      <td>62986100</td>\n",
       "    </tr>\n",
       "    <tr>\n",
       "      <th>2021-05-25</th>\n",
       "      <td>127.82</td>\n",
       "      <td>128.32</td>\n",
       "      <td>126.32</td>\n",
       "      <td>126.90</td>\n",
       "      <td>72009482</td>\n",
       "    </tr>\n",
       "  </tbody>\n",
       "</table>\n",
       "</div>"
      ],
      "text/plain": [
       "              Open    High     Low   Close    Volume\n",
       "Date                                                \n",
       "2021-05-19  123.16  124.92  122.86  124.69  92612000\n",
       "2021-05-20  125.23  127.72  125.10  127.31  76857100\n",
       "2021-05-21  127.82  128.00  125.21  125.43  79209300\n",
       "2021-05-24  126.01  127.94  125.94  127.10  62986100\n",
       "2021-05-25  127.82  128.32  126.32  126.90  72009482"
      ]
     },
     "execution_count": 3,
     "metadata": {},
     "output_type": "execute_result"
    }
   ],
   "source": [
    "# Download the adjusted Apple price data till the current date\n",
    "price_data_apple_adjusted = yf.download(\"AAPL\", start=\"2019-01-02\", auto_adjust=True)\n",
    "\n",
    "# Set the index to a datetime object\n",
    "price_data_apple_adjusted.index = pd.to_datetime(price_data_apple_adjusted.index)\n",
    "\n",
    "# Display the first 5 rows\n",
    "price_data_apple_adjusted.tail()"
   ]
  },
  {
   "cell_type": "markdown",
   "metadata": {},
   "source": [
    "## Plot the Close Price"
   ]
  },
  {
   "cell_type": "code",
   "execution_count": 4,
   "metadata": {
    "id": "of9QQbUWDkol",
    "outputId": "31d6324a-5013-4dad-f894-4765d0b43035"
   },
   "outputs": [
    {
     "data": {
      "image/png": "[encoded data removed]",
      "text/plain": [
       "<Figure size 720x504 with 1 Axes>"
      ]
     },
     "metadata": {
      "needs_background": "light"
     },
     "output_type": "display_data"
    }
   ],
   "source": [
    "# Plot the close price\n",
    "plt.figure(figsize=(10,7))\n",
    "price_data_apple_adjusted['Close'].plot()\n",
    "# Set the title and axes label\n",
    "plt.title('Apple Price Data', fontsize=14)\n",
    "plt.xlabel('Year-Month', fontsize=12)\n",
    "plt.ylabel('Price', fontsize=12)\n",
    "# Show the plot\n",
    "plt.show()"
   ]
  },
  {
   "cell_type": "markdown",
   "metadata": {
    "id": "UZ8FIUjKDkom"
   },
   "source": [
    "## Tweak the code\n",
    "\n",
    "You can tweak the code in the following ways:\n",
    "\n",
    "1. Use different asset other than `AAPL` and download the data.\n",
    "2. Use a different time period to download the data.\n",
    "\n",
    "In the next notebook, you will learn how to download multiple asset data and S&P 500 data.\n",
    "<br><br>"
   ]
  }
 ],
 "metadata": {
  "colab": {
   "collapsed_sections": [],
   "name": "Daily Data.ipynb",
   "provenance": []
  },
  "kernelspec": {
   "display_name": "Python 3",
   "language": "python",
   "name": "python3"
  },
  "language_info": {
   "codemirror_mode": {
    "name": "ipython",
    "version": 3
   },
   "file_extension": ".py",
   "mimetype": "text/x-python",
   "name": "python",
   "nbconvert_exporter": "python",
   "pygments_lexer": "ipython3",
   "version": "3.6.8"
  }
 },
 "nbformat": 4,
 "nbformat_minor": 1
}
