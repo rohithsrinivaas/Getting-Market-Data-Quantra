{
 "cells": [
  {
   "cell_type": "markdown",
   "metadata": {
    "id": "xzWfrLupD298"
   },
   "source": [
    "# Notebook Instructions\n",
    "\n",
    "1. All the <u>code and data files</u> used in this course are available in the downloadable unit of the <u>last section of this course</u>.\n",
    "2. You can run the notebook document sequentially (one cell at a time) by pressing **shift + enter**. \n",
    "3. While a cell is running, a [*] is shown on the left. After the cell is run, the output will appear on the next line.\n",
    "\n",
    "This course is based on specific versions of python packages. You can find the details of the packages in <a href='https://quantra.quantinsti.com/quantra-notebook' target=\"_blank\" >this manual</a>."
   ]
  },
  {
   "cell_type": "markdown",
   "metadata": {
    "id": "wdZ_MadMnnyi"
   },
   "source": [
    "## Minute Price Data & Resampling Techniques\n",
    "\n",
    "So far you have learnt how to download the data points for every day. But sometimes you might need more granularity to test your strategies like a data point for each hour, every 30 minutes or even each minute. In this notebook, you will learn how to download minute level data and how to resample them into different time frames such as 15 minutes and 1 hour. An important point to note here is, you can resample high frequency data to low frequency data, but not the other way round.\n",
    "\n",
    "You will perform the following steps:\n",
    "1. [Download Minute Data](#minute-data)\n",
    "2. [Resample Data](#resample-data)\n",
    "\n",
    "## Import Libraries"
   ]
  },
  {
   "cell_type": "code",
   "execution_count": 1,
   "metadata": {},
   "outputs": [],
   "source": [
    "# For data manipulation\n",
    "import pandas as pd\n",
    "\n",
    "# To fetch financial data\n",
    "import yfinance as yf\n",
    "\n",
    "# For visualisation\n",
    "import matplotlib.pyplot as plt\n",
    "%matplotlib inline\n",
    "plt.style.use('seaborn-darkgrid')"
   ]
  },
  {
   "cell_type": "markdown",
   "metadata": {},
   "source": [
    "<a id='minute-data'></a> \n",
    "## Download Minute Data\n",
    "\n",
    "The `download` method of `yfinance` has parameters `period` and `interval`. You can play around with these parameters to download data for different periods and intervals.\n",
    "\n",
    "You can download the minute data for up to seven days from Yahoo! Finance. The syntax for downloading the minute data of an asset for 5 days is as below:\n",
    "```python\n",
    "yf.download(tickers, period=\"5d\", interval=\"1m\", auto_adjust=True)\n",
    "```\n",
    "\n",
    "Parameters:\n",
    "1. **ticker:** Ticker of the asset.\n",
    "2. **period:** This is the number of days/month of data required. The valid frequencies are `1d, 5d, 1mo, 3mo, 6mo, 1y, 2y, 5y, 10y, ytd, max`.\n",
    "3. **interval:** This is the frequency of data. The valid intervals are `1m, 2m, 5m, 15m, 30m, 60m, 90m, 1h, 1d, 5d, 1wk, 1mo, 3mo`.\n",
    "4. **auto_adjust:** `True` to download adjusted data, else `False`."
   ]
  },
  {
   "cell_type": "code",
   "execution_count": 2,
   "metadata": {
    "id": "bEjU_f9innyi",
    "outputId": "9feb3a25-5adf-4e37-c86b-ce57bcd9c8ac"
   },
   "outputs": [
    {
     "name": "stdout",
     "output_type": "stream",
     "text": [
      "[*********************100%***********************]  1 of 1 downloaded\n"
     ]
    },
    {
     "data": {
      "text/html": [
       "<div>\n",
       "<style scoped>\n",
       "    .dataframe tbody tr th:only-of-type {\n",
       "        vertical-align: middle;\n",
       "    }\n",
       "\n",
       "    .dataframe tbody tr th {\n",
       "        vertical-align: top;\n",
       "    }\n",
       "\n",
       "    .dataframe thead th {\n",
       "        text-align: right;\n",
       "    }\n",
       "</style>\n",
       "<table border=\"1\" class=\"dataframe\">\n",
       "  <thead>\n",
       "    <tr style=\"text-align: right;\">\n",
       "      <th></th>\n",
       "      <th>Open</th>\n",
       "      <th>High</th>\n",
       "      <th>Low</th>\n",
       "      <th>Close</th>\n",
       "      <th>Volume</th>\n",
       "    </tr>\n",
       "    <tr>\n",
       "      <th>Datetime</th>\n",
       "      <th></th>\n",
       "      <th></th>\n",
       "      <th></th>\n",
       "      <th></th>\n",
       "      <th></th>\n",
       "    </tr>\n",
       "  </thead>\n",
       "  <tbody>\n",
       "    <tr>\n",
       "      <th>2021-05-19 09:30:00-04:00</th>\n",
       "      <td>123.16</td>\n",
       "      <td>123.47</td>\n",
       "      <td>122.86</td>\n",
       "      <td>123.45</td>\n",
       "      <td>3462407</td>\n",
       "    </tr>\n",
       "    <tr>\n",
       "      <th>2021-05-19 09:31:00-04:00</th>\n",
       "      <td>123.44</td>\n",
       "      <td>123.88</td>\n",
       "      <td>123.44</td>\n",
       "      <td>123.78</td>\n",
       "      <td>452823</td>\n",
       "    </tr>\n",
       "    <tr>\n",
       "      <th>2021-05-19 09:32:00-04:00</th>\n",
       "      <td>123.77</td>\n",
       "      <td>123.90</td>\n",
       "      <td>123.72</td>\n",
       "      <td>123.76</td>\n",
       "      <td>382622</td>\n",
       "    </tr>\n",
       "    <tr>\n",
       "      <th>2021-05-19 09:33:00-04:00</th>\n",
       "      <td>123.75</td>\n",
       "      <td>123.99</td>\n",
       "      <td>123.67</td>\n",
       "      <td>123.90</td>\n",
       "      <td>445365</td>\n",
       "    </tr>\n",
       "    <tr>\n",
       "      <th>2021-05-19 09:34:00-04:00</th>\n",
       "      <td>123.79</td>\n",
       "      <td>123.90</td>\n",
       "      <td>123.77</td>\n",
       "      <td>123.84</td>\n",
       "      <td>374504</td>\n",
       "    </tr>\n",
       "  </tbody>\n",
       "</table>\n",
       "</div>"
      ],
      "text/plain": [
       "                             Open    High     Low   Close   Volume\n",
       "Datetime                                                          \n",
       "2021-05-19 09:30:00-04:00  123.16  123.47  122.86  123.45  3462407\n",
       "2021-05-19 09:31:00-04:00  123.44  123.88  123.44  123.78   452823\n",
       "2021-05-19 09:32:00-04:00  123.77  123.90  123.72  123.76   382622\n",
       "2021-05-19 09:33:00-04:00  123.75  123.99  123.67  123.90   445365\n",
       "2021-05-19 09:34:00-04:00  123.79  123.90  123.77  123.84   374504"
      ]
     },
     "execution_count": 2,
     "metadata": {},
     "output_type": "execute_result"
    }
   ],
   "source": [
    "# Download the minute data for Apple\n",
    "apple_minute_data = yf.download(tickers=\"AAPL\", period=\"5d\", interval=\"1m\", auto_adjust=True)\n",
    "\n",
    "# Set the index to a datetime object\n",
    "apple_minute_data.index = pd.to_datetime(apple_minute_data.index)\n",
    "\n",
    "# Dispaly the first 5 rows\n",
    "apple_minute_data.head()"
   ]
  },
  {
   "cell_type": "markdown",
   "metadata": {
    "id": "nZoXqDiMnnyj"
   },
   "source": [
    "<a id='resample-data'></a> \n",
    "## Resample Data\n",
    "\n",
    "During strategy modelling, you might be required to work with a custom frequency of stock market data such as 15 minutes or 1 hour or even 1 month. If you have minute level data, then you can easily construct the 15 minutes, 1 hour or daily candles by resampling them. Thus, you don't have to buy them separately.\n",
    "\n",
    "In this case, you can use the pandas `resample()` method to convert the stock data to the frequency of your choice.\n",
    "\n",
    "The first step is to define the dictionary with the conversion logic. For example, to get the open value the first value will be used, to get the high value the maximum value will be used and so on. The name `Open`, `High`, `Low`, `Close` and `Volume` should match the column names in your dataframe."
   ]
  },
  {
   "cell_type": "code",
   "execution_count": 3,
   "metadata": {
    "id": "30BJOARdnnyj"
   },
   "outputs": [],
   "source": [
    "# Aggregate function\n",
    "ohlcv_dict = {'Open': 'first',\n",
    "              'High': 'max',\n",
    "              'Low': 'min',\n",
    "              'Close': 'last',\n",
    "              'Volume': 'sum'\n",
    "             }"
   ]
  },
  {
   "cell_type": "markdown",
   "metadata": {
    "id": "APPueoC6D2-A"
   },
   "source": [
    "You can now use the `resample()` method to resample the data to the desired frequency.\n",
    "\n",
    "Syntax:\n",
    "```python\n",
    "DataFrame.resample(interval).agg(aggregate)\n",
    "```\n",
    "\n",
    "Parameters:\n",
    "1. **interval:** Resampling interval such as 15T for 15 minutes (H is for hour, D is for days, M is for months)\n",
    "2. **aggregate:** Dictionary with aggregating values to be used while resampling\n",
    "\n",
    "Returns: <br>\n",
    "Resampled dataframe\n",
    "\n",
    "### Resample minute data to 15 minutes data"
   ]
  },
  {
   "cell_type": "code",
   "execution_count": 4,
   "metadata": {
    "id": "VDwsXfTFnnyk",
    "outputId": "c2e4bb84-339e-405b-917f-a8767e4195a5"
   },
   "outputs": [
    {
     "data": {
      "text/html": [
       "<div>\n",
       "<style scoped>\n",
       "    .dataframe tbody tr th:only-of-type {\n",
       "        vertical-align: middle;\n",
       "    }\n",
       "\n",
       "    .dataframe tbody tr th {\n",
       "        vertical-align: top;\n",
       "    }\n",
       "\n",
       "    .dataframe thead th {\n",
       "        text-align: right;\n",
       "    }\n",
       "</style>\n",
       "<table border=\"1\" class=\"dataframe\">\n",
       "  <thead>\n",
       "    <tr style=\"text-align: right;\">\n",
       "      <th></th>\n",
       "      <th>Open</th>\n",
       "      <th>High</th>\n",
       "      <th>Low</th>\n",
       "      <th>Close</th>\n",
       "      <th>Volume</th>\n",
       "    </tr>\n",
       "    <tr>\n",
       "      <th>Datetime</th>\n",
       "      <th></th>\n",
       "      <th></th>\n",
       "      <th></th>\n",
       "      <th></th>\n",
       "      <th></th>\n",
       "    </tr>\n",
       "  </thead>\n",
       "  <tbody>\n",
       "    <tr>\n",
       "      <th>2021-05-19 09:30:00-04:00</th>\n",
       "      <td>123.16</td>\n",
       "      <td>124.07</td>\n",
       "      <td>122.86</td>\n",
       "      <td>123.88</td>\n",
       "      <td>9330077</td>\n",
       "    </tr>\n",
       "    <tr>\n",
       "      <th>2021-05-19 09:45:00-04:00</th>\n",
       "      <td>123.88</td>\n",
       "      <td>124.00</td>\n",
       "      <td>123.33</td>\n",
       "      <td>123.36</td>\n",
       "      <td>4655323</td>\n",
       "    </tr>\n",
       "    <tr>\n",
       "      <th>2021-05-19 10:00:00-04:00</th>\n",
       "      <td>123.35</td>\n",
       "      <td>123.69</td>\n",
       "      <td>123.11</td>\n",
       "      <td>123.60</td>\n",
       "      <td>3870079</td>\n",
       "    </tr>\n",
       "    <tr>\n",
       "      <th>2021-05-19 10:15:00-04:00</th>\n",
       "      <td>123.59</td>\n",
       "      <td>123.85</td>\n",
       "      <td>123.36</td>\n",
       "      <td>123.76</td>\n",
       "      <td>3537176</td>\n",
       "    </tr>\n",
       "    <tr>\n",
       "      <th>2021-05-19 10:30:00-04:00</th>\n",
       "      <td>123.76</td>\n",
       "      <td>123.98</td>\n",
       "      <td>123.45</td>\n",
       "      <td>123.71</td>\n",
       "      <td>3442268</td>\n",
       "    </tr>\n",
       "  </tbody>\n",
       "</table>\n",
       "</div>"
      ],
      "text/plain": [
       "                             Open    High     Low   Close   Volume\n",
       "Datetime                                                          \n",
       "2021-05-19 09:30:00-04:00  123.16  124.07  122.86  123.88  9330077\n",
       "2021-05-19 09:45:00-04:00  123.88  124.00  123.33  123.36  4655323\n",
       "2021-05-19 10:00:00-04:00  123.35  123.69  123.11  123.60  3870079\n",
       "2021-05-19 10:15:00-04:00  123.59  123.85  123.36  123.76  3537176\n",
       "2021-05-19 10:30:00-04:00  123.76  123.98  123.45  123.71  3442268"
      ]
     },
     "execution_count": 4,
     "metadata": {},
     "output_type": "execute_result"
    }
   ],
   "source": [
    "# Resample data to 15 minutes data\n",
    "apple_minute_data_15M = apple_minute_data.resample('15T').agg(ohlcv_dict)\n",
    "\n",
    "# Drop the missing values\n",
    "apple_minute_data_15M.dropna(inplace=True)\n",
    "\n",
    "# Display the first 5 rows\n",
    "apple_minute_data_15M.head()"
   ]
  },
  {
   "cell_type": "markdown",
   "metadata": {},
   "source": [
    "### Resample minute data to 1 hour data"
   ]
  },
  {
   "cell_type": "code",
   "execution_count": 5,
   "metadata": {
    "id": "vOZ_UarVnnyk",
    "outputId": "9c71dc1d-6c9a-49c1-c870-83f760dcb59f"
   },
   "outputs": [
    {
     "data": {
      "text/html": [
       "<div>\n",
       "<style scoped>\n",
       "    .dataframe tbody tr th:only-of-type {\n",
       "        vertical-align: middle;\n",
       "    }\n",
       "\n",
       "    .dataframe tbody tr th {\n",
       "        vertical-align: top;\n",
       "    }\n",
       "\n",
       "    .dataframe thead th {\n",
       "        text-align: right;\n",
       "    }\n",
       "</style>\n",
       "<table border=\"1\" class=\"dataframe\">\n",
       "  <thead>\n",
       "    <tr style=\"text-align: right;\">\n",
       "      <th></th>\n",
       "      <th>Open</th>\n",
       "      <th>High</th>\n",
       "      <th>Low</th>\n",
       "      <th>Close</th>\n",
       "      <th>Volume</th>\n",
       "    </tr>\n",
       "    <tr>\n",
       "      <th>Datetime</th>\n",
       "      <th></th>\n",
       "      <th></th>\n",
       "      <th></th>\n",
       "      <th></th>\n",
       "      <th></th>\n",
       "    </tr>\n",
       "  </thead>\n",
       "  <tbody>\n",
       "    <tr>\n",
       "      <th>2021-05-19 09:00:00-04:00</th>\n",
       "      <td>123.16</td>\n",
       "      <td>124.07</td>\n",
       "      <td>122.86</td>\n",
       "      <td>123.36</td>\n",
       "      <td>13985400</td>\n",
       "    </tr>\n",
       "    <tr>\n",
       "      <th>2021-05-19 10:00:00-04:00</th>\n",
       "      <td>123.35</td>\n",
       "      <td>124.05</td>\n",
       "      <td>123.11</td>\n",
       "      <td>123.62</td>\n",
       "      <td>13668306</td>\n",
       "    </tr>\n",
       "    <tr>\n",
       "      <th>2021-05-19 11:00:00-04:00</th>\n",
       "      <td>123.62</td>\n",
       "      <td>124.12</td>\n",
       "      <td>123.31</td>\n",
       "      <td>123.89</td>\n",
       "      <td>10640324</td>\n",
       "    </tr>\n",
       "    <tr>\n",
       "      <th>2021-05-19 12:00:00-04:00</th>\n",
       "      <td>123.90</td>\n",
       "      <td>124.25</td>\n",
       "      <td>123.71</td>\n",
       "      <td>123.99</td>\n",
       "      <td>7711867</td>\n",
       "    </tr>\n",
       "    <tr>\n",
       "      <th>2021-05-19 13:00:00-04:00</th>\n",
       "      <td>123.98</td>\n",
       "      <td>124.44</td>\n",
       "      <td>123.97</td>\n",
       "      <td>124.26</td>\n",
       "      <td>6499870</td>\n",
       "    </tr>\n",
       "  </tbody>\n",
       "</table>\n",
       "</div>"
      ],
      "text/plain": [
       "                             Open    High     Low   Close    Volume\n",
       "Datetime                                                           \n",
       "2021-05-19 09:00:00-04:00  123.16  124.07  122.86  123.36  13985400\n",
       "2021-05-19 10:00:00-04:00  123.35  124.05  123.11  123.62  13668306\n",
       "2021-05-19 11:00:00-04:00  123.62  124.12  123.31  123.89  10640324\n",
       "2021-05-19 12:00:00-04:00  123.90  124.25  123.71  123.99   7711867\n",
       "2021-05-19 13:00:00-04:00  123.98  124.44  123.97  124.26   6499870"
      ]
     },
     "execution_count": 5,
     "metadata": {},
     "output_type": "execute_result"
    }
   ],
   "source": [
    "# Resample data to 1 hour data\n",
    "apple_minute_data_1H = apple_minute_data.resample('1H').agg(ohlcv_dict)\n",
    "\n",
    "# Drop the missing values\n",
    "apple_minute_data_1H.dropna(inplace=True)\n",
    "\n",
    "# Display the first 5 rows\n",
    "apple_minute_data_1H.head()"
   ]
  },
  {
   "cell_type": "markdown",
   "metadata": {},
   "source": [
    "### Resample minute data to 4 hours data"
   ]
  },
  {
   "cell_type": "code",
   "execution_count": 6,
   "metadata": {
    "id": "Fg3dMJ-Ynnyk",
    "outputId": "abcae89e-32af-4df9-baae-0568bf857a7b"
   },
   "outputs": [
    {
     "data": {
      "text/html": [
       "<div>\n",
       "<style scoped>\n",
       "    .dataframe tbody tr th:only-of-type {\n",
       "        vertical-align: middle;\n",
       "    }\n",
       "\n",
       "    .dataframe tbody tr th {\n",
       "        vertical-align: top;\n",
       "    }\n",
       "\n",
       "    .dataframe thead th {\n",
       "        text-align: right;\n",
       "    }\n",
       "</style>\n",
       "<table border=\"1\" class=\"dataframe\">\n",
       "  <thead>\n",
       "    <tr style=\"text-align: right;\">\n",
       "      <th></th>\n",
       "      <th>Open</th>\n",
       "      <th>High</th>\n",
       "      <th>Low</th>\n",
       "      <th>Close</th>\n",
       "      <th>Volume</th>\n",
       "    </tr>\n",
       "    <tr>\n",
       "      <th>Datetime</th>\n",
       "      <th></th>\n",
       "      <th></th>\n",
       "      <th></th>\n",
       "      <th></th>\n",
       "      <th></th>\n",
       "    </tr>\n",
       "  </thead>\n",
       "  <tbody>\n",
       "    <tr>\n",
       "      <th>2021-05-19 08:00:00-04:00</th>\n",
       "      <td>123.16</td>\n",
       "      <td>124.12</td>\n",
       "      <td>122.86</td>\n",
       "      <td>123.89</td>\n",
       "      <td>38294030</td>\n",
       "    </tr>\n",
       "    <tr>\n",
       "      <th>2021-05-19 12:00:00-04:00</th>\n",
       "      <td>123.90</td>\n",
       "      <td>124.92</td>\n",
       "      <td>123.50</td>\n",
       "      <td>124.69</td>\n",
       "      <td>40571254</td>\n",
       "    </tr>\n",
       "    <tr>\n",
       "      <th>2021-05-20 08:00:00-04:00</th>\n",
       "      <td>125.23</td>\n",
       "      <td>127.26</td>\n",
       "      <td>125.10</td>\n",
       "      <td>127.04</td>\n",
       "      <td>30385675</td>\n",
       "    </tr>\n",
       "    <tr>\n",
       "      <th>2021-05-20 12:00:00-04:00</th>\n",
       "      <td>127.05</td>\n",
       "      <td>127.72</td>\n",
       "      <td>126.67</td>\n",
       "      <td>127.31</td>\n",
       "      <td>36448257</td>\n",
       "    </tr>\n",
       "    <tr>\n",
       "      <th>2021-05-21 08:00:00-04:00</th>\n",
       "      <td>127.82</td>\n",
       "      <td>128.00</td>\n",
       "      <td>125.70</td>\n",
       "      <td>125.75</td>\n",
       "      <td>36394522</td>\n",
       "    </tr>\n",
       "  </tbody>\n",
       "</table>\n",
       "</div>"
      ],
      "text/plain": [
       "                             Open    High     Low   Close    Volume\n",
       "Datetime                                                           \n",
       "2021-05-19 08:00:00-04:00  123.16  124.12  122.86  123.89  38294030\n",
       "2021-05-19 12:00:00-04:00  123.90  124.92  123.50  124.69  40571254\n",
       "2021-05-20 08:00:00-04:00  125.23  127.26  125.10  127.04  30385675\n",
       "2021-05-20 12:00:00-04:00  127.05  127.72  126.67  127.31  36448257\n",
       "2021-05-21 08:00:00-04:00  127.82  128.00  125.70  125.75  36394522"
      ]
     },
     "execution_count": 6,
     "metadata": {},
     "output_type": "execute_result"
    }
   ],
   "source": [
    "# Resample data to 4 hours data\n",
    "apple_minute_data_4H = apple_minute_data.resample('4H').agg(ohlcv_dict)\n",
    "\n",
    "# Drop the missing values\n",
    "apple_minute_data_4H.dropna(inplace=True)\n",
    "\n",
    "# Display the first 5 rows\n",
    "apple_minute_data_4H.head()"
   ]
  },
  {
   "cell_type": "markdown",
   "metadata": {
    "id": "eIR76DhxD2-C"
   },
   "source": [
    "## Tweak the code\n",
    "\n",
    "You can tweak the code in the following ways:\n",
    "\n",
    "1. Use different asset other than the `AAPL` of your choice and download the data.\n",
    "2. Use a different time interval to resample the data.\n",
    "<br><br>"
   ]
  }
 ],
 "metadata": {
  "colab": {
   "collapsed_sections": [],
   "name": "Minute Price Data & Resampling Techniques.ipynb",
   "provenance": []
  },
  "kernelspec": {
   "display_name": "Python 3",
   "language": "python",
   "name": "python3"
  },
  "language_info": {
   "codemirror_mode": {
    "name": "ipython",
    "version": 3
   },
   "file_extension": ".py",
   "mimetype": "text/x-python",
   "name": "python",
   "nbconvert_exporter": "python",
   "pygments_lexer": "ipython3",
   "version": "3.6.8"
  }
 },
 "nbformat": 4,
 "nbformat_minor": 1
}
