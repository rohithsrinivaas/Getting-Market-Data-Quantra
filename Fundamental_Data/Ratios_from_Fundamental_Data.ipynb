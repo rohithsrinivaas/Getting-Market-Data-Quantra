{
 "cells": [
  {
   "cell_type": "markdown",
   "metadata": {},
   "source": [
    "# Notebook Instructions\n",
    "\n",
    "1. All the <u>code and data files</u> used in this course are available in the downloadable unit of the <u>last section of this course</u>.\n",
    "2. You can run the notebook document sequentially (one cell at a time) by pressing **Shift + Enter**. \n",
    "3. While a cell is running, a [*] is shown on the left. After the cell is run, the output will appear on the next line.\n",
    "\n",
    "This course is based on specific versions of python packages. You can find the details of the packages in <a href='https://quantra.quantinsti.com/quantra-notebook' target=\"_blank\" >this manual</a>."
   ]
  },
  {
   "cell_type": "markdown",
   "metadata": {},
   "source": [
    "# Ratios from Fundamental Data\n",
    "\n",
    "In this notebook, you will learn what are fundamental ratios and why are they important. You will learn how they help in analysing the fundamental data for a company. You will learn to calculate fundamental ratios such as the return on equity (RoE) and current ratio. The ratios can be calculated using the fundamental data of the company fetched in the previous notebook.\n",
    "\n",
    "You will calculate the following ratios:\n",
    "1. [Current Ratio](#current_ratio)\n",
    "1. [Return on Equity (ROE)](#roe)\n",
    "1. [Debt to Equity (D/E) Ratio](#der)"
   ]
  },
  {
   "cell_type": "markdown",
   "metadata": {},
   "source": [
    "## Import Libraries"
   ]
  },
  {
   "cell_type": "code",
   "execution_count": 1,
   "metadata": {},
   "outputs": [],
   "source": [
    "# Import the yfinance library\n",
    "import yfinance as yf\n",
    "\n",
    "# Import data manipulation library\n",
    "import pandas as pd\n",
    "\n",
    "# Quantra function to fetch the fundamental data\n",
    "import sys\n",
    "sys.path.append(\"..\")\n",
    "from data_modules.FMDA_quantra import get_fundamental_data\n",
    "\n",
    "# Import matplotlib and set the style for plotting\n",
    "import matplotlib.pyplot as plt\n",
    "%matplotlib inline\n",
    "plt.style.use('seaborn-darkgrid')"
   ]
  },
  {
   "cell_type": "markdown",
   "metadata": {},
   "source": [
    "## Define the Stock Ticker and Fetch Fundamental Data\n",
    "\n",
    "Define the asset ticker symbol for which the ratios will be calculated."
   ]
  },
  {
   "cell_type": "code",
   "execution_count": 2,
   "metadata": {},
   "outputs": [
    {
     "name": "stdout",
     "output_type": "stream",
     "text": [
      "Dataset \"us-income-quarterly\" on disk (0 days old).\n",
      "- Loading from disk ... Done!\n",
      "Dataset \"us-balance-quarterly\" on disk (0 days old).\n",
      "- Loading from disk ... Done!\n",
      "Dataset \"us-cashflow-quarterly\" on disk (0 days old).\n",
      "- Loading from disk ... Done!\n"
     ]
    }
   ],
   "source": [
    "# Define the asset ticker for a company, e.g. Apple (AAPL)\n",
    "stock_ticker_symbol = 'AAPL'\n",
    "\n",
    "# Fetch the fundamental data\n",
    "income_data,\\\n",
    "    balance_sheet_data,\\\n",
    "        cash_flow_data = get_fundamental_data(stock_ticker_symbol)"
   ]
  },
  {
   "cell_type": "markdown",
   "metadata": {},
   "source": [
    "<a id='current_ratio'></a> \n",
    "## Current Ratio\n",
    "\n",
    "The current ratio is a liquidity ratio that measures a company's ability to pay short-term obligations. For an investor, a very high current ratio is not a good indicator because that indicates that the company is not using efficiently using its current assets. A current ratio of less than 1 is also not a good sign because that indicates that the company may have problems meeting its short term obligations.\n",
    "\n",
    "The current ratio is calculated as:\n",
    "$$\\text{Current ratio} = \\frac{\\text{Total Current Assets}}{\\text{Total Current Liabilities}}$$"
   ]
  },
  {
   "cell_type": "code",
   "execution_count": 3,
   "metadata": {},
   "outputs": [
    {
     "data": {
      "image/png": "[encoded data removed]",
      "text/plain": [
       "<Figure size 1080x504 with 1 Axes>"
      ]
     },
     "metadata": {
      "needs_background": "light"
     },
     "output_type": "display_data"
    }
   ],
   "source": [
    "# Calculate the current ratio\n",
    "current_ratio = \\\n",
    "    round((balance_sheet_data['Total Current Assets']\n",
    "           / balance_sheet_data['Total Current Liabilities']).astype(float), 2)\n",
    "\n",
    "# Plot the current ratio for the last 3 years\n",
    "data_to_plot = current_ratio.tail(12)\n",
    "X = data_to_plot.index\n",
    "plt.figure(figsize=(15, 7))\n",
    "\n",
    "# Plot the bar chart\n",
    "plt.bar(X, data_to_plot, color='purple', width=10, label=\"Current Ratio\")\n",
    "\n",
    "# Set title and labels for the plot\n",
    "plt.title('Current Ratio', fontsize=14)\n",
    "plt.xlabel('Year-Month', fontsize=12)\n",
    "plt.ylabel('Current Ratio', fontsize=12)\n",
    "plt.show()"
   ]
  },
  {
   "cell_type": "markdown",
   "metadata": {},
   "source": [
    "<a id='roe'></a> \n",
    "## Return on Equity (ROE)\n",
    "\n",
    "The return on equity (ROE) is a measure of the profitability of a business with respect to its equity. Usually, the larger the ROE is, the better it is for the company.\n",
    "\n",
    "The return on equity is calculated as:\n",
    "$$\\text{Return on equity (ROE) (%)} = \\frac{\\text{Net Income}}{\\text{Total Equity}} * 100$$"
   ]
  },
  {
   "cell_type": "code",
   "execution_count": 4,
   "metadata": {},
   "outputs": [
    {
     "data": {
      "image/png": "[encoded data removed]",
      "text/plain": [
       "<Figure size 1080x504 with 1 Axes>"
      ]
     },
     "metadata": {
      "needs_background": "light"
     },
     "output_type": "display_data"
    }
   ],
   "source": [
    "# Calculate the return on equity\n",
    "return_on_equity = \\\n",
    "    round((income_data['Net Income'] / balance_sheet_data['Total Equity'] * 100).astype(float), 2)\n",
    "\n",
    "# Plot the return on equity for the last 3 years\n",
    "data_to_plot = return_on_equity.tail(12)\n",
    "X = data_to_plot.index\n",
    "plt.figure(figsize=(15, 7))\n",
    "\n",
    "# Plot the bar chart\n",
    "plt.bar(X, data_to_plot, color = 'blue', width = 10, label=\"Return on Equity\")\n",
    "\n",
    "# Set title and labels for the plot\n",
    "plt.title('Return on Equity', fontsize=14)\n",
    "plt.xlabel('Year-Month', fontsize=12)\n",
    "plt.ylabel('Return on Equity (%)', fontsize=12)\n",
    "plt.show()"
   ]
  },
  {
   "cell_type": "markdown",
   "metadata": {},
   "source": [
    "<a id='der'></a> \n",
    "## Debt to Equity (D/E) Ratio\n",
    "\n",
    "The debt to equity (D/E) ratio is a fundamental ratio indicating the relative proportion of shareholders' equity and debt used to finance a company's assets. The ratio is also known as risk, gearing or leverage. A high D/E ratio is considered risky because it suggests that the company is financing a significant amount of its potential growth through borrowing.\n",
    "\n",
    "The debt to equity ratio is calculated as:\n",
    "$$\\text{Debt to Equity Ratio (D/E)} = \\frac{\\text{Long Term Debt}}{\\text{Total Equity}}$$"
   ]
  },
  {
   "cell_type": "code",
   "execution_count": 5,
   "metadata": {},
   "outputs": [
    {
     "data": {
      "image/png": "[encoded data removed]",
      "text/plain": [
       "<Figure size 1080x504 with 1 Axes>"
      ]
     },
     "metadata": {
      "needs_background": "light"
     },
     "output_type": "display_data"
    }
   ],
   "source": [
    "# Calculate the debt to equity ratio\n",
    "de_ratio = \\\n",
    "    round((balance_sheet_data['Long Term Debt'] / balance_sheet_data['Total Equity']).astype(float), 2)\n",
    "\n",
    "# Plot the debt to equity for the last 3 years\n",
    "data_to_plot = de_ratio.tail(12)\n",
    "X = data_to_plot.index\n",
    "plt.figure(figsize=(15, 7))\n",
    "\n",
    "# Plot the bar chart\n",
    "plt.bar(X, data_to_plot, color = 'green', width = 10, label=\"Debt to Equity (D/E) Ratio\")\n",
    "\n",
    "# Set title and labels for the plot\n",
    "plt.title('Debt to Equity (D/E) Ratio', fontsize=14)\n",
    "plt.xlabel('Year-Month', fontsize=12)\n",
    "plt.ylabel('Debt to Equity Ratio', fontsize=12)\n",
    "plt.show()"
   ]
  },
  {
   "cell_type": "markdown",
   "metadata": {},
   "source": [
    "In a similar fashion, you can calculate other fundamental ratios on your own and observe the pattern.\n",
    "\n",
    "In the upcoming notebook, you will learn to fetch other fundamental data for a company.\n",
    "<br><br>"
   ]
  }
 ],
 "metadata": {
  "kernelspec": {
   "display_name": "Python 3",
   "language": "python",
   "name": "python3"
  },
  "language_info": {
   "codemirror_mode": {
    "name": "ipython",
    "version": 3
   },
   "file_extension": ".py",
   "mimetype": "text/x-python",
   "name": "python",
   "nbconvert_exporter": "python",
   "pygments_lexer": "ipython3",
   "version": "3.6.8"
  }
 },
 "nbformat": 4,
 "nbformat_minor": 4
}
